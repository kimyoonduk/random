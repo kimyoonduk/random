{
 "cells": [
  {
   "cell_type": "code",
   "execution_count": 190,
   "metadata": {},
   "outputs": [],
   "source": [
    "# 필요한 라이브러리 로딩. 만약 인스톨이 안되어있다면 pip install xxx 커맨드를 통해 미리 인스톨한다\n",
    "import requests\n",
    "import json\n",
    "import pandas as pd\n",
    "import matplotlib.pyplot as plt"
   ]
  },
  {
   "cell_type": "code",
   "execution_count": 2,
   "metadata": {},
   "outputs": [],
   "source": [
    "# Global variable: temporary API KEY\n",
    "API_KEY = ''"
   ]
  },
  {
   "cell_type": "markdown",
   "metadata": {},
   "source": [
    "# get summoner info"
   ]
  },
  {
   "cell_type": "code",
   "execution_count": 40,
   "metadata": {},
   "outputs": [],
   "source": [
    "# 찾고자 하는 소환사명 (바꿀 수 있음)\n",
    "# summoner_name = 'flutterdev'\n",
    "summoner_name = 'h2etul'\n",
    "\n",
    "# API Call을 할 때 필요한 API KEY를 설정한다\n",
    "headers = {'X-Riot-Token': API_KEY}\n",
    "\n",
    "# 정보를 요청할 API 주소 + 소환사명\n",
    "get_summoner_url = 'https://kr.api.riotgames.com/lol/summoner/v4/summoners/by-name/' + summoner_name\n",
    "\n",
    "# requests 라이브러리를 활용하여 API 주소에 정보 요청을 한다.\n",
    "# API KEY를 담고 있는 header 필수\n",
    "sum_response = requests.get(url=get_summoner_url, headers=headers)"
   ]
  },
  {
   "cell_type": "code",
   "execution_count": 44,
   "metadata": {},
   "outputs": [
    {
     "name": "stdout",
     "output_type": "stream",
     "text": [
      "<Response [200]>\n"
     ]
    }
   ],
   "source": [
    "# 지금은 아무것도 보이지 않는다. 200이 뜨면 request가 성공적이라는 의미 (error: 404, 403, etc.)\n",
    "print(sum_response)"
   ]
  },
  {
   "cell_type": "code",
   "execution_count": 45,
   "metadata": {},
   "outputs": [
    {
     "name": "stdout",
     "output_type": "stream",
     "text": [
      "<class 'requests.models.Response'>\n"
     ]
    }
   ],
   "source": [
    "# Response라는 고유 python class이기 때문\n",
    "print(type(sum_response))"
   ]
  },
  {
   "cell_type": "code",
   "execution_count": 46,
   "metadata": {},
   "outputs": [
    {
     "name": "stdout",
     "output_type": "stream",
     "text": [
      "b'{\"id\":\"oI9r4n7Or1nb5BKRnCxpdcIbFGemYeRFSpRPIB9Sf7_JpQ\",\"accountId\":\"cY-zOyOnrjluGdUsPph3IdiUj7PHmdAjZcERvU0ytjY\",\"puuid\":\"X6f2uPjVTxTb-ZxSG8OxNr7DOyojDmqs15Rox79nE8Xoc4qSOc4j7tAEqs_cpNjvadc7c-sgsdHd5w\",\"name\":\"h2etul\",\"profileIconId\":515,\"revisionDate\":1598495886000,\"summonerLevel\":147}'\n"
     ]
    }
   ],
   "source": [
    "# Response object안에 content라는 항목이 있는데, 이것이 우리가 원하는 정보이다\n",
    "print(sum_response.content)"
   ]
  },
  {
   "cell_type": "code",
   "execution_count": 47,
   "metadata": {},
   "outputs": [
    {
     "name": "stdout",
     "output_type": "stream",
     "text": [
      "<class 'bytes'>\n"
     ]
    }
   ],
   "source": [
    "# 근데 위 내용은 정리가 안되어서 분석하기가 어렵다. 데이터 타입이 byte이기 때문\n",
    "print(type(sum_response.content))"
   ]
  },
  {
   "cell_type": "code",
   "execution_count": 48,
   "metadata": {},
   "outputs": [],
   "source": [
    "# json 라이브러리를 이용해 보기 좋은 python \"dictionary\" data structure로 변환시킨다\n",
    "sum_dict = json.loads(sum_response.content)"
   ]
  },
  {
   "cell_type": "code",
   "execution_count": 49,
   "metadata": {},
   "outputs": [
    {
     "data": {
      "text/plain": [
       "{'id': 'oI9r4n7Or1nb5BKRnCxpdcIbFGemYeRFSpRPIB9Sf7_JpQ',\n",
       " 'accountId': 'cY-zOyOnrjluGdUsPph3IdiUj7PHmdAjZcERvU0ytjY',\n",
       " 'puuid': 'X6f2uPjVTxTb-ZxSG8OxNr7DOyojDmqs15Rox79nE8Xoc4qSOc4j7tAEqs_cpNjvadc7c-sgsdHd5w',\n",
       " 'name': 'h2etul',\n",
       " 'profileIconId': 515,\n",
       " 'revisionDate': 1598495886000,\n",
       " 'summonerLevel': 147}"
      ]
     },
     "execution_count": 49,
     "metadata": {},
     "output_type": "execute_result"
    }
   ],
   "source": [
    "# 예쁘게 잘 정리됨\n",
    "sum_dict"
   ]
  },
  {
   "cell_type": "code",
   "execution_count": 50,
   "metadata": {},
   "outputs": [
    {
     "name": "stdout",
     "output_type": "stream",
     "text": [
      "<class 'dict'>\n"
     ]
    }
   ],
   "source": [
    "# 새로 만든 res_dict는 'dict', 즉 python dictionary data structure인 것을 알 수 있음\n",
    "print(type(sum_dict))"
   ]
  },
  {
   "cell_type": "code",
   "execution_count": 51,
   "metadata": {},
   "outputs": [
    {
     "name": "stdout",
     "output_type": "stream",
     "text": [
      "dict_keys(['id', 'accountId', 'puuid', 'name', 'profileIconId', 'revisionDate', 'summonerLevel'])\n"
     ]
    }
   ],
   "source": [
    "# dictionary는 (key, value) 페어를 여러개 갖고있다. res_dict.keys()를 통해 어떤 key가 있는지 확인 가능\n",
    "print(sum_dict.keys())"
   ]
  },
  {
   "cell_type": "code",
   "execution_count": 53,
   "metadata": {},
   "outputs": [
    {
     "name": "stdout",
     "output_type": "stream",
     "text": [
      "h2etul\n"
     ]
    }
   ],
   "source": [
    "# bracket [] 안에 key를 입력하면 key에 해당하는 value를 가져올 수 있다\n",
    "print(sum_dict['name'])"
   ]
  },
  {
   "cell_type": "code",
   "execution_count": 54,
   "metadata": {},
   "outputs": [],
   "source": [
    "# pandas 라이브러리를 통해 excel sheet 과 비슷한 dataframe object로 변환해서 볼 수도 있다\n",
    "df = pd.DataFrame.from_dict(sum_dict, orient='index')"
   ]
  },
  {
   "cell_type": "code",
   "execution_count": 55,
   "metadata": {
    "scrolled": false
   },
   "outputs": [
    {
     "data": {
      "text/html": [
       "<div>\n",
       "<style scoped>\n",
       "    .dataframe tbody tr th:only-of-type {\n",
       "        vertical-align: middle;\n",
       "    }\n",
       "\n",
       "    .dataframe tbody tr th {\n",
       "        vertical-align: top;\n",
       "    }\n",
       "\n",
       "    .dataframe thead th {\n",
       "        text-align: right;\n",
       "    }\n",
       "</style>\n",
       "<table border=\"1\" class=\"dataframe\">\n",
       "  <thead>\n",
       "    <tr style=\"text-align: right;\">\n",
       "      <th></th>\n",
       "      <th>0</th>\n",
       "    </tr>\n",
       "  </thead>\n",
       "  <tbody>\n",
       "    <tr>\n",
       "      <th>id</th>\n",
       "      <td>oI9r4n7Or1nb5BKRnCxpdcIbFGemYeRFSpRPIB9Sf7_JpQ</td>\n",
       "    </tr>\n",
       "    <tr>\n",
       "      <th>accountId</th>\n",
       "      <td>cY-zOyOnrjluGdUsPph3IdiUj7PHmdAjZcERvU0ytjY</td>\n",
       "    </tr>\n",
       "    <tr>\n",
       "      <th>puuid</th>\n",
       "      <td>X6f2uPjVTxTb-ZxSG8OxNr7DOyojDmqs15Rox79nE8Xoc4...</td>\n",
       "    </tr>\n",
       "    <tr>\n",
       "      <th>name</th>\n",
       "      <td>h2etul</td>\n",
       "    </tr>\n",
       "    <tr>\n",
       "      <th>profileIconId</th>\n",
       "      <td>515</td>\n",
       "    </tr>\n",
       "    <tr>\n",
       "      <th>revisionDate</th>\n",
       "      <td>1598495886000</td>\n",
       "    </tr>\n",
       "    <tr>\n",
       "      <th>summonerLevel</th>\n",
       "      <td>147</td>\n",
       "    </tr>\n",
       "  </tbody>\n",
       "</table>\n",
       "</div>"
      ],
      "text/plain": [
       "                                                               0\n",
       "id                oI9r4n7Or1nb5BKRnCxpdcIbFGemYeRFSpRPIB9Sf7_JpQ\n",
       "accountId            cY-zOyOnrjluGdUsPph3IdiUj7PHmdAjZcERvU0ytjY\n",
       "puuid          X6f2uPjVTxTb-ZxSG8OxNr7DOyojDmqs15Rox79nE8Xoc4...\n",
       "name                                                      h2etul\n",
       "profileIconId                                                515\n",
       "revisionDate                                       1598495886000\n",
       "summonerLevel                                                147"
      ]
     },
     "execution_count": 55,
     "metadata": {},
     "output_type": "execute_result"
    }
   ],
   "source": [
    "df"
   ]
  },
  {
   "cell_type": "markdown",
   "metadata": {},
   "source": [
    "# get match list"
   ]
  },
  {
   "cell_type": "code",
   "execution_count": 57,
   "metadata": {},
   "outputs": [
    {
     "name": "stdout",
     "output_type": "stream",
     "text": [
      "cY-zOyOnrjluGdUsPph3IdiUj7PHmdAjZcERvU0ytjY\n"
     ]
    }
   ],
   "source": [
    "# match list를 가져오기 위해서는 'encryptedAccountId'가 필요하다\n",
    "# 다행히 좀전에 가져온 accountId 항목을 이용하면 된다\n",
    "\n",
    "account_id = sum_dict['accountId']\n",
    "print(account_id)"
   ]
  },
  {
   "cell_type": "code",
   "execution_count": 58,
   "metadata": {},
   "outputs": [],
   "source": [
    "# headers는 위에서 이미 설정했지만 연습삼아 한번더\n",
    "headers = {'X-Riot-Token': API_KEY}\n",
    "\n",
    "# 정보를 요청할 matchlists API 주소 + accountId\n",
    "get_ml_url = 'https://kr.api.riotgames.com/lol/match/v4/matchlists/by-account/' + account_id\n",
    "\n",
    "# 새로운 API에 요청을 보낸다\n",
    "ml_response = requests.get(url=get_ml_url, headers=headers)"
   ]
  },
  {
   "cell_type": "code",
   "execution_count": 60,
   "metadata": {},
   "outputs": [
    {
     "name": "stdout",
     "output_type": "stream",
     "text": [
      "<Response [200]>\n"
     ]
    }
   ],
   "source": [
    "# ㅎㅎ\n",
    "print(ml_response)"
   ]
  },
  {
   "cell_type": "code",
   "execution_count": 61,
   "metadata": {},
   "outputs": [],
   "source": [
    "# json 라이브러리를 이용해 보기 좋은 python \"dictionary\" object로 변환시킨다\n",
    "ml_dict = json.loads(ml_response.content)"
   ]
  },
  {
   "cell_type": "code",
   "execution_count": 219,
   "metadata": {},
   "outputs": [
    {
     "name": "stdout",
     "output_type": "stream",
     "text": [
      "\n"
     ]
    }
   ],
   "source": [
    "# 소환사 API는 짧고 간결했는데, match list는 최근 100경기를 가져와서 길다\n",
    "ml_dict"
   ]
  },
  {
   "cell_type": "code",
   "execution_count": 64,
   "metadata": {},
   "outputs": [
    {
     "name": "stdout",
     "output_type": "stream",
     "text": [
      "dict_keys(['matches', 'startIndex', 'endIndex', 'totalGames'])\n"
     ]
    }
   ],
   "source": [
    "# key는 다음과 같은데, 우리가 원하는건 'matches'에 해당되는 value다\n",
    "print(ml_dict.keys())"
   ]
  },
  {
   "cell_type": "code",
   "execution_count": 65,
   "metadata": {},
   "outputs": [],
   "source": [
    "# match 리스트만 보기\n",
    "match_list = ml_dict['matches']"
   ]
  },
  {
   "cell_type": "code",
   "execution_count": 67,
   "metadata": {},
   "outputs": [
    {
     "name": "stdout",
     "output_type": "stream",
     "text": [
      "<class 'list'>\n"
     ]
    }
   ],
   "source": [
    "# 이 친구는 'list'라는 data structure다\n",
    "print(type(match_list))"
   ]
  },
  {
   "cell_type": "code",
   "execution_count": 70,
   "metadata": {},
   "outputs": [
    {
     "data": {
      "text/plain": [
       "{'platformId': 'KR',\n",
       " 'gameId': 4604768924,\n",
       " 'champion': 84,\n",
       " 'queue': 450,\n",
       " 'season': 13,\n",
       " 'timestamp': 1598519815434,\n",
       " 'role': 'SOLO',\n",
       " 'lane': 'TOP'}"
      ]
     },
     "execution_count": 70,
     "metadata": {},
     "output_type": "execute_result"
    }
   ],
   "source": [
    "# list는 인덱스를 활용해 x번재 항목을 가져올 수 있다. 인덱스는 0에서 시작하니 주의\n",
    "match_list[0]"
   ]
  },
  {
   "cell_type": "markdown",
   "metadata": {},
   "source": [
    "#### https://www.op.gg/summoner/userName=h2etul"
   ]
  },
  {
   "cell_type": "code",
   "execution_count": 73,
   "metadata": {},
   "outputs": [],
   "source": [
    "# 0번째 게임은 가장 최근에 한 ARAM 게임인데, 볼만한게 별로 없으니 3번 (4번째) 모르가나 게임을 예시로 본다\n",
    "match_example = match_list[3]"
   ]
  },
  {
   "cell_type": "code",
   "execution_count": 75,
   "metadata": {},
   "outputs": [
    {
     "data": {
      "text/plain": [
       "{'platformId': 'KR',\n",
       " 'gameId': 4585667847,\n",
       " 'champion': 25,\n",
       " 'queue': 420,\n",
       " 'season': 13,\n",
       " 'timestamp': 1597737140721,\n",
       " 'role': 'DUO_SUPPORT',\n",
       " 'lane': 'BOTTOM'}"
      ]
     },
     "execution_count": 75,
     "metadata": {},
     "output_type": "execute_result"
    }
   ],
   "source": [
    "# 그런데 25번 챔피언이 어떻게 모르가나인줄 알 수 있을까\n",
    "match_example"
   ]
  },
  {
   "cell_type": "markdown",
   "metadata": {},
   "source": [
    "#### https://developer.riotgames.com/docs/lol#data-dragon_champions"
   ]
  },
  {
   "cell_type": "code",
   "execution_count": 76,
   "metadata": {},
   "outputs": [],
   "source": [
    "# 라이엇 data dragon api를 쓰면 된다. 이건 오픈된 정보라 API_KEY도 필요 없음 ㅎㅎ\n",
    "champ_data_url = 'http://ddragon.leagueoflegends.com/cdn/10.18.1/data/en_US/champion.json'\n",
    "\n",
    "# header 불필요\n",
    "champ_response = requests.get(url=champ_data_url)"
   ]
  },
  {
   "cell_type": "code",
   "execution_count": 80,
   "metadata": {},
   "outputs": [],
   "source": [
    "# 위와 동일한 과정\n",
    "champ_dict = json.loads(champ_response.content)"
   ]
  },
  {
   "cell_type": "code",
   "execution_count": 220,
   "metadata": {},
   "outputs": [
    {
     "name": "stdout",
     "output_type": "stream",
     "text": [
      "\n"
     ]
    }
   ],
   "source": [
    "# 10.18.1 버젼 패치에 해당되는 챔피언 정보가 dictionary 형태로 있음\n",
    "champ_dict"
   ]
  },
  {
   "cell_type": "code",
   "execution_count": 85,
   "metadata": {},
   "outputs": [
    {
     "name": "stdout",
     "output_type": "stream",
     "text": [
      "dict_keys(['type', 'format', 'version', 'data'])\n"
     ]
    }
   ],
   "source": [
    "# 우리가 원하는 항목은 data\n",
    "print(champ_dict.keys())"
   ]
  },
  {
   "cell_type": "code",
   "execution_count": 88,
   "metadata": {},
   "outputs": [
    {
     "name": "stdout",
     "output_type": "stream",
     "text": [
      "<class 'dict'>\n"
     ]
    }
   ],
   "source": [
    "# dictionary 안에 dictionary가 들어가는 경우가 많다. data도 dictionary임\n",
    "print(type(champ_dict['data']))"
   ]
  },
  {
   "cell_type": "code",
   "execution_count": 221,
   "metadata": {},
   "outputs": [
    {
     "name": "stdout",
     "output_type": "stream",
     "text": [
      "\n"
     ]
    }
   ],
   "source": [
    "# data\n",
    "champ_dict['data']"
   ]
  },
  {
   "cell_type": "code",
   "execution_count": 87,
   "metadata": {
    "scrolled": true
   },
   "outputs": [
    {
     "name": "stdout",
     "output_type": "stream",
     "text": [
      "dict_keys(['Aatrox', 'Ahri', 'Akali', 'Alistar', 'Amumu', 'Anivia', 'Annie', 'Aphelios', 'Ashe', 'AurelionSol', 'Azir', 'Bard', 'Blitzcrank', 'Brand', 'Braum', 'Caitlyn', 'Camille', 'Cassiopeia', 'Chogath', 'Corki', 'Darius', 'Diana', 'Draven', 'DrMundo', 'Ekko', 'Elise', 'Evelynn', 'Ezreal', 'Fiddlesticks', 'Fiora', 'Fizz', 'Galio', 'Gangplank', 'Garen', 'Gnar', 'Gragas', 'Graves', 'Hecarim', 'Heimerdinger', 'Illaoi', 'Irelia', 'Ivern', 'Janna', 'JarvanIV', 'Jax', 'Jayce', 'Jhin', 'Jinx', 'Kaisa', 'Kalista', 'Karma', 'Karthus', 'Kassadin', 'Katarina', 'Kayle', 'Kayn', 'Kennen', 'Khazix', 'Kindred', 'Kled', 'KogMaw', 'Leblanc', 'LeeSin', 'Leona', 'Lillia', 'Lissandra', 'Lucian', 'Lulu', 'Lux', 'Malphite', 'Malzahar', 'Maokai', 'MasterYi', 'MissFortune', 'MonkeyKing', 'Mordekaiser', 'Morgana', 'Nami', 'Nasus', 'Nautilus', 'Neeko', 'Nidalee', 'Nocturne', 'Nunu', 'Olaf', 'Orianna', 'Ornn', 'Pantheon', 'Poppy', 'Pyke', 'Qiyana', 'Quinn', 'Rakan', 'Rammus', 'RekSai', 'Renekton', 'Rengar', 'Riven', 'Rumble', 'Ryze', 'Sejuani', 'Senna', 'Sett', 'Shaco', 'Shen', 'Shyvana', 'Singed', 'Sion', 'Sivir', 'Skarner', 'Sona', 'Soraka', 'Swain', 'Sylas', 'Syndra', 'TahmKench', 'Taliyah', 'Talon', 'Taric', 'Teemo', 'Thresh', 'Tristana', 'Trundle', 'Tryndamere', 'TwistedFate', 'Twitch', 'Udyr', 'Urgot', 'Varus', 'Vayne', 'Veigar', 'Velkoz', 'Vi', 'Viktor', 'Vladimir', 'Volibear', 'Warwick', 'Xayah', 'Xerath', 'XinZhao', 'Yasuo', 'Yone', 'Yorick', 'Yuumi', 'Zac', 'Zed', 'Ziggs', 'Zilean', 'Zoe', 'Zyra'])\n"
     ]
    }
   ],
   "source": [
    "# key를 보니 챔프별로 구분되어 있다\n",
    "print(champ_dict['data'].keys())"
   ]
  },
  {
   "cell_type": "code",
   "execution_count": 90,
   "metadata": {
    "scrolled": true
   },
   "outputs": [
    {
     "data": {
      "text/plain": [
       "{'version': '10.18.1',\n",
       " 'id': 'Morgana',\n",
       " 'key': '25',\n",
       " 'name': 'Morgana',\n",
       " 'title': 'the Fallen',\n",
       " 'blurb': 'Conflicted between her celestial and mortal natures, Morgana bound her wings to embrace humanity, and inflicts her pain and bitterness upon the dishonest and the corrupt. She rejects laws and traditions she believes are unjust, and fights for truth from...',\n",
       " 'info': {'attack': 1, 'defense': 6, 'magic': 8, 'difficulty': 1},\n",
       " 'image': {'full': 'Morgana.png',\n",
       "  'sprite': 'champion2.png',\n",
       "  'group': 'champion',\n",
       "  'x': 288,\n",
       "  'y': 48,\n",
       "  'w': 48,\n",
       "  'h': 48},\n",
       " 'tags': ['Mage', 'Support'],\n",
       " 'partype': 'Mana',\n",
       " 'stats': {'hp': 560,\n",
       "  'hpperlevel': 90,\n",
       "  'mp': 340,\n",
       "  'mpperlevel': 60,\n",
       "  'movespeed': 335,\n",
       "  'armor': 25,\n",
       "  'armorperlevel': 3.8,\n",
       "  'spellblock': 30,\n",
       "  'spellblockperlevel': 0.5,\n",
       "  'attackrange': 450,\n",
       "  'hpregen': 5.5,\n",
       "  'hpregenperlevel': 0.4,\n",
       "  'mpregen': 11,\n",
       "  'mpregenperlevel': 0.4,\n",
       "  'crit': 0,\n",
       "  'critperlevel': 0,\n",
       "  'attackdamage': 56,\n",
       "  'attackdamageperlevel': 3.5,\n",
       "  'attackspeedperlevel': 1.53,\n",
       "  'attackspeed': 0.625}}"
      ]
     },
     "execution_count": 90,
     "metadata": {},
     "output_type": "execute_result"
    }
   ],
   "source": [
    "# Morgana에 해당되는 또 하나의 dictionary\n",
    "champ_dict['data']['Morgana']"
   ]
  },
  {
   "cell_type": "code",
   "execution_count": 92,
   "metadata": {},
   "outputs": [
    {
     "name": "stdout",
     "output_type": "stream",
     "text": [
      "25\n"
     ]
    }
   ],
   "source": [
    "# Morgana의 'key'라는 값이 25번이라는 것을 알 수 있다 \n",
    "# 여기서 'key'는 dictionary의 key, value를 보편적으로 일컫는 의미가 아닌 라이엇에서 임의로 지정한 id의 의미로 쓰임\n",
    "print(champ_dict['data']['Morgana']['key'])"
   ]
  },
  {
   "cell_type": "code",
   "execution_count": 97,
   "metadata": {},
   "outputs": [
    {
     "name": "stdout",
     "output_type": "stream",
     "text": [
      "Morgana\n"
     ]
    }
   ],
   "source": [
    "# 이름으로 key를 찾을 수는 있는데, key로 이름을 찾는 방법은 없을까?\n",
    "# data 안에 있는 모든 이름에 대하여, 만약 그 이름에 해당되는 dictionary의 'key'라는 아이디가 '25'면 이름을 찍는다\n",
    "for name in champ_dict['data'].keys():\n",
    "    if champ_dict['data'][name]['key'] == '25':\n",
    "        print(name)    "
   ]
  },
  {
   "cell_type": "markdown",
   "metadata": {},
   "source": [
    "# get match + match timeline"
   ]
  },
  {
   "cell_type": "code",
   "execution_count": 98,
   "metadata": {},
   "outputs": [
    {
     "data": {
      "text/plain": [
       "{'platformId': 'KR',\n",
       " 'gameId': 4585667847,\n",
       " 'champion': 25,\n",
       " 'queue': 420,\n",
       " 'season': 13,\n",
       " 'timestamp': 1597737140721,\n",
       " 'role': 'DUO_SUPPORT',\n",
       " 'lane': 'BOTTOM'}"
      ]
     },
     "execution_count": 98,
     "metadata": {},
     "output_type": "execute_result"
    }
   ],
   "source": [
    "# 위에서 가져온 match_example에 대해 디테일을 알아보자\n",
    "match_example"
   ]
  },
  {
   "cell_type": "code",
   "execution_count": 118,
   "metadata": {},
   "outputs": [],
   "source": [
    "match_id = str(match_example['gameId'])\n",
    "\n",
    "headers = {'X-Riot-Token': API_KEY}\n",
    "\n",
    "# 정보를 요청할 matches API 주소 + match_id\n",
    "get_match_url = 'https://kr.api.riotgames.com/lol/match/v4/matches/' + match_id\n",
    "\n",
    "# 새로운 API에 요청을 보낸다\n",
    "match_response = requests.get(url=get_match_url, headers=headers)"
   ]
  },
  {
   "cell_type": "code",
   "execution_count": 119,
   "metadata": {},
   "outputs": [],
   "source": [
    "match_dict = json.loads(match_response.content)"
   ]
  },
  {
   "cell_type": "code",
   "execution_count": 222,
   "metadata": {},
   "outputs": [
    {
     "name": "stdout",
     "output_type": "stream",
     "text": [
      "\n"
     ]
    }
   ],
   "source": [
    "# 경기에 대한 각종 디테일\n",
    "match_dict"
   ]
  },
  {
   "cell_type": "code",
   "execution_count": 121,
   "metadata": {},
   "outputs": [
    {
     "data": {
      "text/plain": [
       "dict_keys(['gameId', 'platformId', 'gameCreation', 'gameDuration', 'queueId', 'mapId', 'seasonId', 'gameVersion', 'gameMode', 'gameType', 'teams', 'participants', 'participantIdentities'])"
      ]
     },
     "execution_count": 121,
     "metadata": {},
     "output_type": "execute_result"
    }
   ],
   "source": [
    "match_dict.keys()"
   ]
  },
  {
   "cell_type": "code",
   "execution_count": 223,
   "metadata": {
    "scrolled": true
   },
   "outputs": [
    {
     "name": "stdout",
     "output_type": "stream",
     "text": [
      "\n"
     ]
    }
   ],
   "source": [
    "# 'teams'키로 팀 정보 구경.. teamId는 100이 파랑이고 200이 보라인듯\n",
    "match_dict['teams']"
   ]
  },
  {
   "cell_type": "code",
   "execution_count": 126,
   "metadata": {
    "scrolled": true
   },
   "outputs": [
    {
     "data": {
      "text/plain": [
       "{'teamId': 100,\n",
       " 'win': 'Fail',\n",
       " 'firstBlood': False,\n",
       " 'firstTower': False,\n",
       " 'firstInhibitor': False,\n",
       " 'firstBaron': False,\n",
       " 'firstDragon': True,\n",
       " 'firstRiftHerald': False,\n",
       " 'towerKills': 1,\n",
       " 'inhibitorKills': 0,\n",
       " 'baronKills': 0,\n",
       " 'dragonKills': 1,\n",
       " 'vilemawKills': 0,\n",
       " 'riftHeraldKills': 0,\n",
       " 'dominionVictoryScore': 0,\n",
       " 'bans': [{'championId': 62, 'pickTurn': 1},\n",
       "  {'championId': 86, 'pickTurn': 2},\n",
       "  {'championId': 3, 'pickTurn': 3},\n",
       "  {'championId': 69, 'pickTurn': 4},\n",
       "  {'championId': 51, 'pickTurn': 5}]}"
      ]
     },
     "execution_count": 126,
     "metadata": {},
     "output_type": "execute_result"
    }
   ],
   "source": [
    "# teams가 list data structure라서 0번째 블루팀 정보를 구경\n",
    "match_dict['teams'][0]"
   ]
  },
  {
   "cell_type": "code",
   "execution_count": 127,
   "metadata": {},
   "outputs": [
    {
     "data": {
      "text/plain": [
       "[{'championId': 62, 'pickTurn': 1},\n",
       " {'championId': 86, 'pickTurn': 2},\n",
       " {'championId': 3, 'pickTurn': 3},\n",
       " {'championId': 69, 'pickTurn': 4},\n",
       " {'championId': 51, 'pickTurn': 5}]"
      ]
     },
     "execution_count": 127,
     "metadata": {},
     "output_type": "execute_result"
    }
   ],
   "source": [
    "# 픽 순서랑 밴도 볼 수 있음 ㅎㅎ\n",
    "match_dict['teams'][0]['bans']"
   ]
  },
  {
   "cell_type": "code",
   "execution_count": 224,
   "metadata": {
    "scrolled": true
   },
   "outputs": [
    {
     "name": "stdout",
     "output_type": "stream",
     "text": [
      "\n"
     ]
    }
   ],
   "source": [
    "# 플레이어 계정 정보\n",
    "match_dict['participantIdentities']"
   ]
  },
  {
   "cell_type": "code",
   "execution_count": 136,
   "metadata": {},
   "outputs": [
    {
     "name": "stdout",
     "output_type": "stream",
     "text": [
      "<class 'list'>\n"
     ]
    }
   ],
   "source": [
    "print(type(match_dict['participantIdentities']))"
   ]
  },
  {
   "cell_type": "code",
   "execution_count": 132,
   "metadata": {
    "scrolled": true
   },
   "outputs": [
    {
     "name": "stdout",
     "output_type": "stream",
     "text": [
      "{'participantId': 6, 'player': {'platformId': 'KR', 'accountId': 'cY-zOyOnrjluGdUsPph3IdiUj7PHmdAjZcERvU0ytjY', 'summonerName': 'h2etul', 'summonerId': 'oI9r4n7Or1nb5BKRnCxpdcIbFGemYeRFSpRPIB9Sf7_JpQ', 'currentPlatformId': 'KR', 'currentAccountId': 'cY-zOyOnrjluGdUsPph3IdiUj7PHmdAjZcERvU0ytjY', 'matchHistoryUri': '/v1/stats/player_history/KR/486387', 'profileIcon': 515}}\n"
     ]
    }
   ],
   "source": [
    "# 히털은 participantId: 6\n",
    "for participant in match_dict['participantIdentities']:\n",
    "    if participant['player']['summonerName'] == 'h2etul':\n",
    "        print(participant)"
   ]
  },
  {
   "cell_type": "code",
   "execution_count": 225,
   "metadata": {},
   "outputs": [
    {
     "name": "stdout",
     "output_type": "stream",
     "text": [
      "\n"
     ]
    }
   ],
   "source": [
    "# 플레이어 게임 정보\n",
    "match_dict['participants']"
   ]
  },
  {
   "cell_type": "code",
   "execution_count": 137,
   "metadata": {},
   "outputs": [
    {
     "name": "stdout",
     "output_type": "stream",
     "text": [
      "<class 'list'>\n"
     ]
    }
   ],
   "source": [
    "print(type(match_dict['participants']))"
   ]
  },
  {
   "cell_type": "code",
   "execution_count": 139,
   "metadata": {},
   "outputs": [],
   "source": [
    "# 6번 participant 정보를 heetul이라는 variable에 저장하자\n",
    "heetul = None;\n",
    "\n",
    "\n",
    "for participant in match_dict['participants']:\n",
    "    if participant['participantId'] == 6:\n",
    "        heetul = participant"
   ]
  },
  {
   "cell_type": "code",
   "execution_count": 141,
   "metadata": {},
   "outputs": [
    {
     "data": {
      "text/plain": [
       "{'participantId': 6,\n",
       " 'teamId': 200,\n",
       " 'championId': 25,\n",
       " 'spell1Id': 3,\n",
       " 'spell2Id': 4,\n",
       " 'stats': {'participantId': 6,\n",
       "  'win': True,\n",
       "  'item0': 3157,\n",
       "  'item1': 2065,\n",
       "  'item2': 3860,\n",
       "  'item3': 1052,\n",
       "  'item4': 0,\n",
       "  'item5': 3047,\n",
       "  'item6': 3364,\n",
       "  'kills': 2,\n",
       "  'deaths': 4,\n",
       "  'assists': 23,\n",
       "  'largestKillingSpree': 0,\n",
       "  'largestMultiKill': 2,\n",
       "  'killingSprees': 0,\n",
       "  'longestTimeSpentLiving': 744,\n",
       "  'doubleKills': 1,\n",
       "  'tripleKills': 0,\n",
       "  'quadraKills': 0,\n",
       "  'pentaKills': 0,\n",
       "  'unrealKills': 0,\n",
       "  'totalDamageDealt': 31016,\n",
       "  'magicDamageDealt': 19174,\n",
       "  'physicalDamageDealt': 6458,\n",
       "  'trueDamageDealt': 5384,\n",
       "  'largestCriticalStrike': 0,\n",
       "  'totalDamageDealtToChampions': 8762,\n",
       "  'magicDamageDealtToChampions': 7303,\n",
       "  'physicalDamageDealtToChampions': 1432,\n",
       "  'trueDamageDealtToChampions': 26,\n",
       "  'totalHeal': 2836,\n",
       "  'totalUnitsHealed': 5,\n",
       "  'damageSelfMitigated': 10740,\n",
       "  'damageDealtToObjectives': 3967,\n",
       "  'damageDealtToTurrets': 1356,\n",
       "  'visionScore': 73,\n",
       "  'timeCCingOthers': 54,\n",
       "  'totalDamageTaken': 13371,\n",
       "  'magicalDamageTaken': 4934,\n",
       "  'physicalDamageTaken': 8358,\n",
       "  'trueDamageTaken': 78,\n",
       "  'goldEarned': 8940,\n",
       "  'goldSpent': 7585,\n",
       "  'turretKills': 1,\n",
       "  'inhibitorKills': 0,\n",
       "  'totalMinionsKilled': 35,\n",
       "  'neutralMinionsKilled': 0,\n",
       "  'neutralMinionsKilledTeamJungle': 0,\n",
       "  'neutralMinionsKilledEnemyJungle': 0,\n",
       "  'totalTimeCrowdControlDealt': 98,\n",
       "  'champLevel': 14,\n",
       "  'visionWardsBoughtInGame': 9,\n",
       "  'sightWardsBoughtInGame': 0,\n",
       "  'wardsPlaced': 39,\n",
       "  'wardsKilled': 4,\n",
       "  'firstBloodKill': False,\n",
       "  'firstBloodAssist': False,\n",
       "  'firstTowerKill': False,\n",
       "  'firstTowerAssist': False,\n",
       "  'firstInhibitorKill': False,\n",
       "  'firstInhibitorAssist': True,\n",
       "  'combatPlayerScore': 0,\n",
       "  'objectivePlayerScore': 0,\n",
       "  'totalPlayerScore': 0,\n",
       "  'totalScoreRank': 0,\n",
       "  'playerScore0': 0,\n",
       "  'playerScore1': 0,\n",
       "  'playerScore2': 0,\n",
       "  'playerScore3': 0,\n",
       "  'playerScore4': 0,\n",
       "  'playerScore5': 0,\n",
       "  'playerScore6': 0,\n",
       "  'playerScore7': 0,\n",
       "  'playerScore8': 0,\n",
       "  'playerScore9': 0,\n",
       "  'perk0': 8465,\n",
       "  'perk0Var1': 2876,\n",
       "  'perk0Var2': 0,\n",
       "  'perk0Var3': 0,\n",
       "  'perk1': 8463,\n",
       "  'perk1Var1': 795,\n",
       "  'perk1Var2': 0,\n",
       "  'perk1Var3': 0,\n",
       "  'perk2': 8473,\n",
       "  'perk2Var1': 570,\n",
       "  'perk2Var2': 0,\n",
       "  'perk2Var3': 0,\n",
       "  'perk3': 8453,\n",
       "  'perk3Var1': 286,\n",
       "  'perk3Var2': 577,\n",
       "  'perk3Var3': 0,\n",
       "  'perk4': 8345,\n",
       "  'perk4Var1': 3,\n",
       "  'perk4Var2': 0,\n",
       "  'perk4Var3': 0,\n",
       "  'perk5': 8347,\n",
       "  'perk5Var1': 0,\n",
       "  'perk5Var2': 0,\n",
       "  'perk5Var3': 0,\n",
       "  'perkPrimaryStyle': 8400,\n",
       "  'perkSubStyle': 8300,\n",
       "  'statPerk0': 5008,\n",
       "  'statPerk1': 5008,\n",
       "  'statPerk2': 5002},\n",
       " 'timeline': {'participantId': 6,\n",
       "  'creepsPerMinDeltas': {'10-20': 1.6, '0-10': 1.3, '20-30': 0.4},\n",
       "  'xpPerMinDeltas': {'10-20': 331.4, '0-10': 246.3, '20-30': 373.6},\n",
       "  'goldPerMinDeltas': {'10-20': 291.8, '0-10': 162.5, '20-30': 244.7},\n",
       "  'csDiffPerMinDeltas': {'10-20': -0.2500000000000002,\n",
       "   '0-10': 0.44999999999999996,\n",
       "   '20-30': -0.44999999999999984},\n",
       "  'xpDiffPerMinDeltas': {'10-20': -33.599999999999966,\n",
       "   '0-10': 26.450000000000017,\n",
       "   '20-30': 13.500000000000028},\n",
       "  'damageTakenPerMinDeltas': {'10-20': 344.8, '0-10': 116.5, '20-30': 659.6},\n",
       "  'damageTakenDiffPerMinDeltas': {'10-20': 6.249999999999972,\n",
       "   '0-10': -48.45,\n",
       "   '20-30': -73.24999999999994},\n",
       "  'role': 'DUO_SUPPORT',\n",
       "  'lane': 'BOTTOM'}}"
      ]
     },
     "execution_count": 141,
     "metadata": {},
     "output_type": "execute_result"
    }
   ],
   "source": [
    "# 이김 ㅎㅎ\n",
    "# 특성 정보도 있고 게임 결과창에는 볼 수 없는 데이터도 있음\n",
    "heetul"
   ]
  },
  {
   "cell_type": "code",
   "execution_count": 143,
   "metadata": {},
   "outputs": [
    {
     "data": {
      "text/plain": [
       "dict_keys(['participantId', 'teamId', 'championId', 'spell1Id', 'spell2Id', 'stats', 'timeline'])"
      ]
     },
     "execution_count": 143,
     "metadata": {},
     "output_type": "execute_result"
    }
   ],
   "source": [
    "heetul.keys()"
   ]
  },
  {
   "cell_type": "code",
   "execution_count": 144,
   "metadata": {},
   "outputs": [
    {
     "data": {
      "text/plain": [
       "{'participantId': 6,\n",
       " 'creepsPerMinDeltas': {'10-20': 1.6, '0-10': 1.3, '20-30': 0.4},\n",
       " 'xpPerMinDeltas': {'10-20': 331.4, '0-10': 246.3, '20-30': 373.6},\n",
       " 'goldPerMinDeltas': {'10-20': 291.8, '0-10': 162.5, '20-30': 244.7},\n",
       " 'csDiffPerMinDeltas': {'10-20': -0.2500000000000002,\n",
       "  '0-10': 0.44999999999999996,\n",
       "  '20-30': -0.44999999999999984},\n",
       " 'xpDiffPerMinDeltas': {'10-20': -33.599999999999966,\n",
       "  '0-10': 26.450000000000017,\n",
       "  '20-30': 13.500000000000028},\n",
       " 'damageTakenPerMinDeltas': {'10-20': 344.8, '0-10': 116.5, '20-30': 659.6},\n",
       " 'damageTakenDiffPerMinDeltas': {'10-20': 6.249999999999972,\n",
       "  '0-10': -48.45,\n",
       "  '20-30': -73.24999999999994},\n",
       " 'role': 'DUO_SUPPORT',\n",
       " 'lane': 'BOTTOM'}"
      ]
     },
     "execution_count": 144,
     "metadata": {},
     "output_type": "execute_result"
    }
   ],
   "source": [
    "# 10분마다 분당 cs/골드/경험치 차이 기록\n",
    "# 순서가 이상한데 0-10, 10-20, 20-30 순으로 보면 갈수록 차이가 벌어지는 것을 알 수 있음\n",
    "heetul['timeline']"
   ]
  },
  {
   "cell_type": "markdown",
   "metadata": {},
   "source": [
    "# match timeline details"
   ]
  },
  {
   "cell_type": "code",
   "execution_count": 100,
   "metadata": {},
   "outputs": [],
   "source": [
    "match_id = str(match_example['gameId'])\n",
    "\n",
    "headers = {'X-Riot-Token': API_KEY}\n",
    "\n",
    "# 정보를 요청할 timeline API 주소 + match_id\n",
    "get_tl_url = 'https://kr.api.riotgames.com/lol/match/v4/timelines/by-match/' + match_id\n",
    "\n",
    "# 새로운 API에 요청을 보낸다\n",
    "tl_response = requests.get(url=get_tl_url, headers=headers)"
   ]
  },
  {
   "cell_type": "code",
   "execution_count": 101,
   "metadata": {},
   "outputs": [],
   "source": [
    "tl_dict = json.loads(tl_response.content)"
   ]
  },
  {
   "cell_type": "code",
   "execution_count": 226,
   "metadata": {},
   "outputs": [
    {
     "name": "stdout",
     "output_type": "stream",
     "text": [
      "\n"
     ]
    }
   ],
   "source": [
    "tl_dict"
   ]
  },
  {
   "cell_type": "code",
   "execution_count": 104,
   "metadata": {},
   "outputs": [
    {
     "name": "stdout",
     "output_type": "stream",
     "text": [
      "dict_keys(['frames', 'frameInterval'])\n"
     ]
    }
   ],
   "source": [
    "print(tl_dict.keys())"
   ]
  },
  {
   "cell_type": "code",
   "execution_count": 107,
   "metadata": {},
   "outputs": [
    {
     "name": "stdout",
     "output_type": "stream",
     "text": [
      "<class 'list'>\n"
     ]
    }
   ],
   "source": [
    "print(type(tl_dict['frames']))"
   ]
  },
  {
   "cell_type": "code",
   "execution_count": 110,
   "metadata": {},
   "outputs": [
    {
     "name": "stdout",
     "output_type": "stream",
     "text": [
      "60000\n"
     ]
    }
   ],
   "source": [
    "# 60000 프레임당 한번씩 경기 스냅샷을 찍나보다\n",
    "print(tl_dict['frameInterval'])"
   ]
  },
  {
   "cell_type": "code",
   "execution_count": 114,
   "metadata": {},
   "outputs": [
    {
     "name": "stdout",
     "output_type": "stream",
     "text": [
      "35\n"
     ]
    }
   ],
   "source": [
    "# len()을 쓰면 list가 얼마나 긴지 알 수 있다. 스냅샷은 총 35개\n",
    "# 실제 경기가 33분 28초였으니, 아마 60000 frames = 1분 정도 되나보다. 초당 1000프레임?\n",
    "# 1분마다 스냅샷이 있는것도 나쁘진 않은데 좀 더 디테일한 insight을 얻으려면 리플레이 데이터를 분석하는게 좋을지도\n",
    "print(len(tl_dict['frames']))"
   ]
  },
  {
   "cell_type": "code",
   "execution_count": 111,
   "metadata": {
    "scrolled": true
   },
   "outputs": [
    {
     "data": {
      "text/plain": [
       "{'participantFrames': {'1': {'participantId': 2,\n",
       "   'position': {'x': 560, 'y': 581},\n",
       "   'currentGold': 500,\n",
       "   'totalGold': 500,\n",
       "   'level': 1,\n",
       "   'xp': 0,\n",
       "   'minionsKilled': 0,\n",
       "   'jungleMinionsKilled': 0,\n",
       "   'dominionScore': 0,\n",
       "   'teamScore': 0},\n",
       "  '2': {'participantId': 4,\n",
       "   'position': {'x': 560, 'y': 361},\n",
       "   'currentGold': 500,\n",
       "   'totalGold': 500,\n",
       "   'level': 1,\n",
       "   'xp': 0,\n",
       "   'minionsKilled': 0,\n",
       "   'jungleMinionsKilled': 0,\n",
       "   'dominionScore': 0,\n",
       "   'teamScore': 0},\n",
       "  '3': {'participantId': 1,\n",
       "   'position': {'x': 351, 'y': 293},\n",
       "   'currentGold': 500,\n",
       "   'totalGold': 500,\n",
       "   'level': 1,\n",
       "   'xp': 0,\n",
       "   'minionsKilled': 0,\n",
       "   'jungleMinionsKilled': 0,\n",
       "   'dominionScore': 0,\n",
       "   'teamScore': 0},\n",
       "  '4': {'participantId': 5,\n",
       "   'position': {'x': 221, 'y': 471},\n",
       "   'currentGold': 500,\n",
       "   'totalGold': 500,\n",
       "   'level': 1,\n",
       "   'xp': 0,\n",
       "   'minionsKilled': 0,\n",
       "   'jungleMinionsKilled': 0,\n",
       "   'dominionScore': 0,\n",
       "   'teamScore': 0},\n",
       "  '5': {'participantId': 3,\n",
       "   'position': {'x': 311, 'y': 649},\n",
       "   'currentGold': 500,\n",
       "   'totalGold': 500,\n",
       "   'level': 1,\n",
       "   'xp': 0,\n",
       "   'minionsKilled': 0,\n",
       "   'jungleMinionsKilled': 0,\n",
       "   'dominionScore': 0,\n",
       "   'teamScore': 0},\n",
       "  '6': {'participantId': 9,\n",
       "   'position': {'x': 14486, 'y': 14511},\n",
       "   'currentGold': 500,\n",
       "   'totalGold': 500,\n",
       "   'level': 1,\n",
       "   'xp': 0,\n",
       "   'minionsKilled': 0,\n",
       "   'jungleMinionsKilled': 0,\n",
       "   'dominionScore': 0,\n",
       "   'teamScore': 0},\n",
       "  '7': {'participantId': 7,\n",
       "   'position': {'x': 14486, 'y': 14291},\n",
       "   'currentGold': 500,\n",
       "   'totalGold': 500,\n",
       "   'level': 1,\n",
       "   'xp': 0,\n",
       "   'minionsKilled': 0,\n",
       "   'jungleMinionsKilled': 0,\n",
       "   'dominionScore': 0,\n",
       "   'teamScore': 0},\n",
       "  '8': {'participantId': 8,\n",
       "   'position': {'x': 14277, 'y': 14223},\n",
       "   'currentGold': 500,\n",
       "   'totalGold': 500,\n",
       "   'level': 1,\n",
       "   'xp': 0,\n",
       "   'minionsKilled': 0,\n",
       "   'jungleMinionsKilled': 0,\n",
       "   'dominionScore': 0,\n",
       "   'teamScore': 0},\n",
       "  '9': {'participantId': 10,\n",
       "   'position': {'x': 14147, 'y': 14401},\n",
       "   'currentGold': 500,\n",
       "   'totalGold': 500,\n",
       "   'level': 1,\n",
       "   'xp': 0,\n",
       "   'minionsKilled': 0,\n",
       "   'jungleMinionsKilled': 0,\n",
       "   'dominionScore': 0,\n",
       "   'teamScore': 0},\n",
       "  '10': {'participantId': 6,\n",
       "   'position': {'x': 14237, 'y': 14579},\n",
       "   'currentGold': 500,\n",
       "   'totalGold': 500,\n",
       "   'level': 1,\n",
       "   'xp': 0,\n",
       "   'minionsKilled': 0,\n",
       "   'jungleMinionsKilled': 0,\n",
       "   'dominionScore': 0,\n",
       "   'teamScore': 0}},\n",
       " 'events': [],\n",
       " 'timestamp': 0}"
      ]
     },
     "execution_count": 111,
     "metadata": {},
     "output_type": "execute_result"
    }
   ],
   "source": [
    "# 첫번째 프레임은 경기 시작 시점이라 아무것도 없음\n",
    "tl_dict['frames'][0]"
   ]
  },
  {
   "cell_type": "code",
   "execution_count": 115,
   "metadata": {},
   "outputs": [
    {
     "data": {
      "text/plain": [
       "dict_keys(['participantFrames', 'events', 'timestamp'])"
      ]
     },
     "execution_count": 115,
     "metadata": {},
     "output_type": "execute_result"
    }
   ],
   "source": [
    "tl_dict['frames'][0].keys()"
   ]
  },
  {
   "cell_type": "code",
   "execution_count": 227,
   "metadata": {
    "scrolled": true
   },
   "outputs": [
    {
     "name": "stdout",
     "output_type": "stream",
     "text": [
      "\n"
     ]
    }
   ],
   "source": [
    "# 10명 선수마다 상황을 볼 수 있음\n",
    "tl_dict['frames'][0]['participantFrames']"
   ]
  },
  {
   "cell_type": "code",
   "execution_count": 228,
   "metadata": {},
   "outputs": [
    {
     "name": "stdout",
     "output_type": "stream",
     "text": [
      "\n"
     ]
    }
   ],
   "source": [
    "# 1분이 지났는데 그닥 많은 일은 없었지만 다들 아이템을 샀다\n",
    "tl_dict['frames'][1]"
   ]
  },
  {
   "cell_type": "code",
   "execution_count": 145,
   "metadata": {},
   "outputs": [
    {
     "data": {
      "text/plain": [
       "dict_keys(['participantFrames', 'events', 'timestamp'])"
      ]
     },
     "execution_count": 145,
     "metadata": {},
     "output_type": "execute_result"
    }
   ],
   "source": [
    "tl_dict['frames'][1].keys()"
   ]
  },
  {
   "cell_type": "code",
   "execution_count": 229,
   "metadata": {
    "scrolled": true
   },
   "outputs": [
    {
     "name": "stdout",
     "output_type": "stream",
     "text": [
      "\n"
     ]
    }
   ],
   "source": [
    "# 누가 구리게 만들었는지 key랑 participant id랑 일치하지 않음;;\n",
    "tl_dict['frames'][1]['participantFrames']"
   ]
  },
  {
   "cell_type": "code",
   "execution_count": 153,
   "metadata": {},
   "outputs": [],
   "source": [
    "# 히털 찾기 (위에 만든 heetul과는 다른 정보라 heetul2로 구분)\n",
    "\n",
    "minute_1 = tl_dict['frames'][1]['participantFrames']\n",
    "\n",
    "heetul2 = None;\n",
    "\n",
    "for key in minute_1.keys():\n",
    "    if minute_1[key]['participantId'] == 6:\n",
    "        heetul2 = minute_1[key]"
   ]
  },
  {
   "cell_type": "code",
   "execution_count": 154,
   "metadata": {
    "scrolled": true
   },
   "outputs": [
    {
     "data": {
      "text/plain": [
       "{'participantId': 6,\n",
       " 'position': {'x': 12564, 'y': 11610},\n",
       " 'currentGold': 0,\n",
       " 'totalGold': 500,\n",
       " 'level': 1,\n",
       " 'xp': 0,\n",
       " 'minionsKilled': 0,\n",
       " 'jungleMinionsKilled': 0,\n",
       " 'dominionScore': 0,\n",
       " 'teamScore': 0}"
      ]
     },
     "execution_count": 154,
     "metadata": {},
     "output_type": "execute_result"
    }
   ],
   "source": [
    "# 1분 위치 알 수 있음\n",
    "heetul2"
   ]
  },
  {
   "cell_type": "code",
   "execution_count": 155,
   "metadata": {},
   "outputs": [],
   "source": [
    "# 1분 동안 많은 일이 있었다\n",
    "events_1 = tl_dict['frames'][1]['events']"
   ]
  },
  {
   "cell_type": "code",
   "execution_count": 230,
   "metadata": {},
   "outputs": [
    {
     "name": "stdout",
     "output_type": "stream",
     "text": [
      "\n"
     ]
    }
   ],
   "source": [
    "events_1"
   ]
  },
  {
   "cell_type": "code",
   "execution_count": 159,
   "metadata": {
    "scrolled": true
   },
   "outputs": [
    {
     "name": "stdout",
     "output_type": "stream",
     "text": [
      "{'type': 'ITEM_PURCHASED', 'timestamp': 3376, 'participantId': 10, 'itemId': 1055}\n",
      "{'type': 'ITEM_PURCHASED', 'timestamp': 3706, 'participantId': 10, 'itemId': 2003}\n",
      "{'type': 'ITEM_PURCHASED', 'timestamp': 4169, 'participantId': 10, 'itemId': 3340}\n",
      "{'type': 'ITEM_PURCHASED', 'timestamp': 5126, 'participantId': 6, 'itemId': 3340}\n",
      "{'type': 'ITEM_PURCHASED', 'timestamp': 7339, 'participantId': 4, 'itemId': 1041}\n",
      "{'type': 'ITEM_PURCHASED', 'timestamp': 7768, 'participantId': 4, 'itemId': 2031}\n",
      "{'type': 'ITEM_PURCHASED', 'timestamp': 8198, 'participantId': 4, 'itemId': 3340}\n",
      "{'type': 'ITEM_PURCHASED', 'timestamp': 10641, 'participantId': 5, 'itemId': 1055}\n",
      "{'type': 'ITEM_PURCHASED', 'timestamp': 10972, 'participantId': 5, 'itemId': 2003}\n",
      "{'type': 'ITEM_PURCHASED', 'timestamp': 11335, 'participantId': 6, 'itemId': 3858}\n",
      "{'type': 'ITEM_PURCHASED', 'timestamp': 11335, 'participantId': 5, 'itemId': 3340}\n",
      "{'type': 'ITEM_PURCHASED', 'timestamp': 11896, 'participantId': 6, 'itemId': 2003}\n",
      "{'type': 'ITEM_PURCHASED', 'timestamp': 12128, 'participantId': 6, 'itemId': 2003}\n",
      "{'type': 'ITEM_PURCHASED', 'timestamp': 14671, 'participantId': 9, 'itemId': 1054}\n",
      "{'type': 'ITEM_PURCHASED', 'timestamp': 15167, 'participantId': 9, 'itemId': 2003}\n",
      "{'type': 'ITEM_PURCHASED', 'timestamp': 15530, 'participantId': 9, 'itemId': 3340}\n",
      "{'type': 'ITEM_PURCHASED', 'timestamp': 16587, 'participantId': 8, 'itemId': 2003}\n",
      "{'type': 'ITEM_PURCHASED', 'timestamp': 16785, 'participantId': 8, 'itemId': 2003}\n",
      "{'type': 'ITEM_PURCHASED', 'timestamp': 16851, 'participantId': 8, 'itemId': 2003}\n",
      "{'type': 'ITEM_PURCHASED', 'timestamp': 18733, 'participantId': 8, 'itemId': 1036}\n",
      "{'type': 'ITEM_PURCHASED', 'timestamp': 20881, 'participantId': 2, 'itemId': 2033}\n",
      "{'type': 'SKILL_LEVEL_UP', 'timestamp': 21112, 'participantId': 8, 'skillSlot': 1, 'levelUpType': 'NORMAL'}\n",
      "{'type': 'ITEM_PURCHASED', 'timestamp': 21310, 'participantId': 2, 'itemId': 3340}\n",
      "{'type': 'ITEM_PURCHASED', 'timestamp': 21674, 'participantId': 1, 'itemId': 1055}\n",
      "{'type': 'ITEM_PURCHASED', 'timestamp': 22137, 'participantId': 1, 'itemId': 2003}\n",
      "{'type': 'ITEM_PURCHASED', 'timestamp': 22401, 'participantId': 1, 'itemId': 3340}\n",
      "{'type': 'ITEM_PURCHASED', 'timestamp': 23756, 'participantId': 3, 'itemId': 3858}\n",
      "{'type': 'ITEM_PURCHASED', 'timestamp': 24285, 'participantId': 3, 'itemId': 2003}\n",
      "{'type': 'ITEM_PURCHASED', 'timestamp': 24417, 'participantId': 3, 'itemId': 2003}\n",
      "{'type': 'ITEM_PURCHASED', 'timestamp': 24747, 'participantId': 3, 'itemId': 3340}\n",
      "{'type': 'WARD_PLACED', 'timestamp': 38752, 'wardType': 'YELLOW_TRINKET', 'creatorId': 6}\n"
     ]
    },
    {
     "ename": "KeyError",
     "evalue": "'participantId'",
     "output_type": "error",
     "traceback": [
      "\u001b[0;31m---------------------------------------------------------------------------\u001b[0m",
      "\u001b[0;31mKeyError\u001b[0m                                  Traceback (most recent call last)",
      "\u001b[0;32m<ipython-input-159-a639c299137e>\u001b[0m in \u001b[0;36m<module>\u001b[0;34m\u001b[0m\n\u001b[1;32m      4\u001b[0m \u001b[0;32mfor\u001b[0m \u001b[0mevent\u001b[0m \u001b[0;32min\u001b[0m \u001b[0mevents_1\u001b[0m\u001b[0;34m:\u001b[0m\u001b[0;34m\u001b[0m\u001b[0;34m\u001b[0m\u001b[0m\n\u001b[1;32m      5\u001b[0m     \u001b[0mprint\u001b[0m\u001b[0;34m(\u001b[0m\u001b[0mevent\u001b[0m\u001b[0;34m)\u001b[0m\u001b[0;34m\u001b[0m\u001b[0;34m\u001b[0m\u001b[0m\n\u001b[0;32m----> 6\u001b[0;31m     \u001b[0;32mif\u001b[0m \u001b[0mevent\u001b[0m\u001b[0;34m[\u001b[0m\u001b[0;34m'participantId'\u001b[0m\u001b[0;34m]\u001b[0m \u001b[0;34m==\u001b[0m \u001b[0;36m6\u001b[0m\u001b[0;34m:\u001b[0m\u001b[0;34m\u001b[0m\u001b[0;34m\u001b[0m\u001b[0m\n\u001b[0m\u001b[1;32m      7\u001b[0m         \u001b[0mheetul_events\u001b[0m\u001b[0;34m.\u001b[0m\u001b[0mappend\u001b[0m\u001b[0;34m(\u001b[0m\u001b[0mevent\u001b[0m\u001b[0;34m)\u001b[0m\u001b[0;34m\u001b[0m\u001b[0;34m\u001b[0m\u001b[0m\n",
      "\u001b[0;31mKeyError\u001b[0m: 'participantId'"
     ]
    }
   ],
   "source": [
    "# 히털 관련 이벤트 모음\n",
    "# 이벤트마다 participantId가 6인 경우 추가함\n",
    "# 근데 WARD_PLACED 같은 경우 'participantId' 항목이 없어서 'creatorId'를 써야함;; 첨부터 좀 제대로 만들지\n",
    "heetul_events = []\n",
    "\n",
    "for event in events_1:\n",
    "    print(event)\n",
    "    \n",
    "    if event['participantId'] == 6:\n",
    "        heetul_events.append(event)"
   ]
  },
  {
   "cell_type": "code",
   "execution_count": 160,
   "metadata": {},
   "outputs": [],
   "source": [
    "heetul_events = []\n",
    "\n",
    "for event in events_1:\n",
    "    \n",
    "    # WARD_PLACED 이벤트일 경우 creatorId 기준으로 추가\n",
    "    if event['type'] == 'WARD_PLACED':\n",
    "        if event['creatorId'] == 6:\n",
    "            heetul_events.append(event)        \n",
    "    \n",
    "    # 이 외에는 participantId 기준으로 추가\n",
    "    else:\n",
    "        if event['participantId'] == 6:\n",
    "            heetul_events.append(event)\n",
    "        "
   ]
  },
  {
   "cell_type": "code",
   "execution_count": 161,
   "metadata": {
    "scrolled": true
   },
   "outputs": [
    {
     "data": {
      "text/plain": [
       "[{'type': 'ITEM_PURCHASED',\n",
       "  'timestamp': 5126,\n",
       "  'participantId': 6,\n",
       "  'itemId': 3340},\n",
       " {'type': 'ITEM_PURCHASED',\n",
       "  'timestamp': 11335,\n",
       "  'participantId': 6,\n",
       "  'itemId': 3858},\n",
       " {'type': 'ITEM_PURCHASED',\n",
       "  'timestamp': 11896,\n",
       "  'participantId': 6,\n",
       "  'itemId': 2003},\n",
       " {'type': 'ITEM_PURCHASED',\n",
       "  'timestamp': 12128,\n",
       "  'participantId': 6,\n",
       "  'itemId': 2003},\n",
       " {'type': 'WARD_PLACED',\n",
       "  'timestamp': 38752,\n",
       "  'wardType': 'YELLOW_TRINKET',\n",
       "  'creatorId': 6},\n",
       " {'type': 'ITEM_PURCHASED',\n",
       "  'timestamp': 50840,\n",
       "  'participantId': 6,\n",
       "  'itemId': 3364},\n",
       " {'type': 'ITEM_DESTROYED',\n",
       "  'timestamp': 50840,\n",
       "  'participantId': 6,\n",
       "  'itemId': 3340}]"
      ]
     },
     "execution_count": 161,
     "metadata": {},
     "output_type": "execute_result"
    }
   ],
   "source": [
    "# 템 산다음 열심히 달려가 노랑 와드를 설치하고 빨강 와드로 바꿨다는 것을 알 수 있음\n",
    "heetul_events"
   ]
  },
  {
   "cell_type": "code",
   "execution_count": 173,
   "metadata": {
    "scrolled": true
   },
   "outputs": [
    {
     "name": "stdout",
     "output_type": "stream",
     "text": [
      "{'participantId': 6, 'position': {'x': 14237, 'y': 14579}, 'currentGold': 500, 'totalGold': 500, 'level': 1, 'xp': 0, 'minionsKilled': 0, 'jungleMinionsKilled': 0, 'dominionScore': 0, 'teamScore': 0}\n",
      "{'participantId': 6, 'position': {'x': 12564, 'y': 11610}, 'currentGold': 0, 'totalGold': 500, 'level': 1, 'xp': 0, 'minionsKilled': 0, 'jungleMinionsKilled': 0, 'dominionScore': 0, 'teamScore': 0}\n",
      "{'participantId': 6, 'position': {'x': 12947, 'y': 2632}, 'currentGold': 65, 'totalGold': 565, 'level': 1, 'xp': 150, 'minionsKilled': 2, 'jungleMinionsKilled': 0, 'dominionScore': 0, 'teamScore': 0}\n",
      "{'participantId': 6, 'position': {'x': 13715, 'y': 3936}, 'currentGold': 213, 'totalGold': 713, 'level': 2, 'xp': 412, 'minionsKilled': 3, 'jungleMinionsKilled': 0, 'dominionScore': 0, 'teamScore': 0}\n",
      "{'participantId': 6, 'position': {'x': 14087, 'y': 13850}, 'currentGold': 123, 'totalGold': 923, 'level': 3, 'xp': 749, 'minionsKilled': 3, 'jungleMinionsKilled': 0, 'dominionScore': 0, 'teamScore': 0}\n",
      "{'participantId': 6, 'position': {'x': 12464, 'y': 1988}, 'currentGold': 142, 'totalGold': 1067, 'level': 3, 'xp': 923, 'minionsKilled': 3, 'jungleMinionsKilled': 0, 'dominionScore': 0, 'teamScore': 0}\n",
      "{'participantId': 6, 'position': {'x': 14005, 'y': 13748}, 'currentGold': 258, 'totalGold': 1258, 'level': 3, 'xp': 1091, 'minionsKilled': 6, 'jungleMinionsKilled': 0, 'dominionScore': 0, 'teamScore': 0}\n",
      "{'participantId': 6, 'position': {'x': 9753, 'y': 5400}, 'currentGold': 337, 'totalGold': 1422, 'level': 4, 'xp': 1166, 'minionsKilled': 7, 'jungleMinionsKilled': 0, 'dominionScore': 0, 'teamScore': 0}\n",
      "{'participantId': 6, 'position': {'x': 13215, 'y': 4115}, 'currentGold': 636, 'totalGold': 1721, 'level': 4, 'xp': 1718, 'minionsKilled': 9, 'jungleMinionsKilled': 0, 'dominionScore': 0, 'teamScore': 0}\n",
      "{'participantId': 6, 'position': {'x': 11621, 'y': 1696}, 'currentGold': 864, 'totalGold': 1949, 'level': 5, 'xp': 2113, 'minionsKilled': 11, 'jungleMinionsKilled': 0, 'dominionScore': 0, 'teamScore': 0}\n",
      "{'participantId': 6, 'position': {'x': 13748, 'y': 4316}, 'currentGold': 1040, 'totalGold': 2125, 'level': 6, 'xp': 2463, 'minionsKilled': 13, 'jungleMinionsKilled': 0, 'dominionScore': 0, 'teamScore': 0}\n",
      "{'participantId': 6, 'position': {'x': 14004, 'y': 4550}, 'currentGold': 1267, 'totalGold': 2352, 'level': 6, 'xp': 2748, 'minionsKilled': 16, 'jungleMinionsKilled': 0, 'dominionScore': 0, 'teamScore': 0}\n",
      "{'participantId': 6, 'position': {'x': 8219, 'y': 6767}, 'currentGold': 126, 'totalGold': 3086, 'level': 7, 'xp': 3584, 'minionsKilled': 16, 'jungleMinionsKilled': 0, 'dominionScore': 0, 'teamScore': 0}\n",
      "{'participantId': 6, 'position': {'x': 11115, 'y': 3690}, 'currentGold': 324, 'totalGold': 3284, 'level': 7, 'xp': 3922, 'minionsKilled': 17, 'jungleMinionsKilled': 0, 'dominionScore': 0, 'teamScore': 0}\n",
      "{'participantId': 6, 'position': {'x': 12090, 'y': 1281}, 'currentGold': 584, 'totalGold': 3544, 'level': 8, 'xp': 4243, 'minionsKilled': 20, 'jungleMinionsKilled': 0, 'dominionScore': 0, 'teamScore': 0}\n",
      "{'participantId': 6, 'position': {'x': 9958, 'y': 9781}, 'currentGold': 41, 'totalGold': 3876, 'level': 8, 'xp': 4435, 'minionsKilled': 22, 'jungleMinionsKilled': 0, 'dominionScore': 0, 'teamScore': 0}\n",
      "{'participantId': 6, 'position': {'x': 8463, 'y': 6525}, 'currentGold': 290, 'totalGold': 4125, 'level': 8, 'xp': 4639, 'minionsKilled': 24, 'jungleMinionsKilled': 0, 'dominionScore': 0, 'teamScore': 0}\n",
      "{'participantId': 6, 'position': {'x': 7161, 'y': 7128}, 'currentGold': 571, 'totalGold': 4406, 'level': 9, 'xp': 5094, 'minionsKilled': 27, 'jungleMinionsKilled': 0, 'dominionScore': 0, 'teamScore': 0}\n",
      "{'participantId': 6, 'position': {'x': 6976, 'y': 8957}, 'currentGold': 336, 'totalGold': 4546, 'level': 9, 'xp': 5163, 'minionsKilled': 27, 'jungleMinionsKilled': 0, 'dominionScore': 0, 'teamScore': 0}\n",
      "{'participantId': 6, 'position': {'x': 7545, 'y': 7651}, 'currentGold': 641, 'totalGold': 4851, 'level': 9, 'xp': 5623, 'minionsKilled': 28, 'jungleMinionsKilled': 0, 'dominionScore': 0, 'teamScore': 0}\n",
      "{'participantId': 6, 'position': {'x': 7827, 'y': 7124}, 'currentGold': 533, 'totalGold': 5043, 'level': 9, 'xp': 5777, 'minionsKilled': 29, 'jungleMinionsKilled': 0, 'dominionScore': 0, 'teamScore': 0}\n",
      "{'participantId': 6, 'position': {'x': 8279, 'y': 8218}, 'currentGold': 798, 'totalGold': 5308, 'level': 9, 'xp': 6116, 'minionsKilled': 32, 'jungleMinionsKilled': 0, 'dominionScore': 0, 'teamScore': 0}\n",
      "{'participantId': 6, 'position': {'x': 8672, 'y': 5403}, 'currentGold': 364, 'totalGold': 5448, 'level': 10, 'xp': 6247, 'minionsKilled': 32, 'jungleMinionsKilled': 0, 'dominionScore': 0, 'teamScore': 0}\n",
      "{'participantId': 6, 'position': {'x': 6980, 'y': 7223}, 'currentGold': 816, 'totalGold': 5901, 'level': 11, 'xp': 7500, 'minionsKilled': 32, 'jungleMinionsKilled': 0, 'dominionScore': 0, 'teamScore': 0}\n",
      "{'participantId': 6, 'position': {'x': 8474, 'y': 10485}, 'currentGold': 207, 'totalGold': 6267, 'level': 11, 'xp': 7611, 'minionsKilled': 32, 'jungleMinionsKilled': 0, 'dominionScore': 0, 'teamScore': 0}\n",
      "{'participantId': 6, 'position': {'x': 5778, 'y': 8607}, 'currentGold': 422, 'totalGold': 6482, 'level': 11, 'xp': 7946, 'minionsKilled': 32, 'jungleMinionsKilled': 0, 'dominionScore': 0, 'teamScore': 0}\n",
      "{'participantId': 6, 'position': {'x': 6816, 'y': 6963}, 'currentGold': 488, 'totalGold': 6623, 'level': 11, 'xp': 8204, 'minionsKilled': 32, 'jungleMinionsKilled': 0, 'dominionScore': 0, 'teamScore': 0}\n",
      "{'participantId': 6, 'position': {'x': 8737, 'y': 1667}, 'currentGold': 658, 'totalGold': 6793, 'level': 11, 'xp': 8347, 'minionsKilled': 33, 'jungleMinionsKilled': 0, 'dominionScore': 0, 'teamScore': 0}\n",
      "{'participantId': 6, 'position': {'x': 13105, 'y': 12405}, 'currentGold': 11, 'totalGold': 7121, 'level': 12, 'xp': 9086, 'minionsKilled': 33, 'jungleMinionsKilled': 0, 'dominionScore': 0, 'teamScore': 0}\n",
      "{'participantId': 6, 'position': {'x': 8643, 'y': 4954}, 'currentGold': 240, 'totalGold': 7350, 'level': 12, 'xp': 9475, 'minionsKilled': 33, 'jungleMinionsKilled': 0, 'dominionScore': 0, 'teamScore': 0}\n",
      "{'participantId': 6, 'position': {'x': 8567, 'y': 4780}, 'currentGold': 380, 'totalGold': 7490, 'level': 12, 'xp': 9513, 'minionsKilled': 33, 'jungleMinionsKilled': 0, 'dominionScore': 0, 'teamScore': 0}\n",
      "{'participantId': 6, 'position': {'x': 7461, 'y': 8512}, 'currentGold': 86, 'totalGold': 7631, 'level': 12, 'xp': 9584, 'minionsKilled': 33, 'jungleMinionsKilled': 0, 'dominionScore': 0, 'teamScore': 0}\n",
      "{'participantId': 6, 'position': {'x': 4764, 'y': 9989}, 'currentGold': 343, 'totalGold': 7888, 'level': 13, 'xp': 10173, 'minionsKilled': 34, 'jungleMinionsKilled': 0, 'dominionScore': 0, 'teamScore': 0}\n",
      "{'participantId': 6, 'position': {'x': 1936, 'y': 1737}, 'currentGold': 1147, 'totalGold': 8692, 'level': 14, 'xp': 11685, 'minionsKilled': 35, 'jungleMinionsKilled': 0, 'dominionScore': 0, 'teamScore': 0}\n",
      "{'participantId': 6, 'currentGold': 1355, 'totalGold': 8940, 'level': 14, 'xp': 12645, 'minionsKilled': 35, 'jungleMinionsKilled': 0}\n"
     ]
    },
    {
     "ename": "KeyError",
     "evalue": "'position'",
     "output_type": "error",
     "traceback": [
      "\u001b[0;31m---------------------------------------------------------------------------\u001b[0m",
      "\u001b[0;31mKeyError\u001b[0m                                  Traceback (most recent call last)",
      "\u001b[0;32m<ipython-input-173-162157c92b96>\u001b[0m in \u001b[0;36m<module>\u001b[0;34m\u001b[0m\n\u001b[1;32m     44\u001b[0m \u001b[0;34m\u001b[0m\u001b[0m\n\u001b[1;32m     45\u001b[0m     \u001b[0;31m# 쓸만한거 가져오면 됨\u001b[0m\u001b[0;34m\u001b[0m\u001b[0;34m\u001b[0m\u001b[0;34m\u001b[0m\u001b[0m\n\u001b[0;32m---> 46\u001b[0;31m     \u001b[0mheetul_frame\u001b[0m\u001b[0;34m[\u001b[0m\u001b[0;34m'position'\u001b[0m\u001b[0;34m]\u001b[0m \u001b[0;34m=\u001b[0m \u001b[0mheetul\u001b[0m\u001b[0;34m[\u001b[0m\u001b[0;34m'position'\u001b[0m\u001b[0;34m]\u001b[0m\u001b[0;34m\u001b[0m\u001b[0;34m\u001b[0m\u001b[0m\n\u001b[0m\u001b[1;32m     47\u001b[0m     \u001b[0mheetul_frame\u001b[0m\u001b[0;34m[\u001b[0m\u001b[0;34m'totalGold'\u001b[0m\u001b[0;34m]\u001b[0m \u001b[0;34m=\u001b[0m \u001b[0mheetul\u001b[0m\u001b[0;34m[\u001b[0m\u001b[0;34m'totalGold'\u001b[0m\u001b[0;34m]\u001b[0m\u001b[0;34m\u001b[0m\u001b[0;34m\u001b[0m\u001b[0m\n\u001b[1;32m     48\u001b[0m     \u001b[0mheetul_frame\u001b[0m\u001b[0;34m[\u001b[0m\u001b[0;34m'level'\u001b[0m\u001b[0;34m]\u001b[0m \u001b[0;34m=\u001b[0m \u001b[0mheetul\u001b[0m\u001b[0;34m[\u001b[0m\u001b[0;34m'level'\u001b[0m\u001b[0;34m]\u001b[0m\u001b[0;34m\u001b[0m\u001b[0;34m\u001b[0m\u001b[0m\n",
      "\u001b[0;31mKeyError\u001b[0m: 'position'"
     ]
    }
   ],
   "source": [
    "# 34분 게임 동안 히털의 위치를 좌표에 그려보자\n",
    "\n",
    "# 새로 만들 히털 데이터\n",
    "heetul_data = []\n",
    "\n",
    "\n",
    "# 재료: 타임라인 dictionary\n",
    "tl_dict['frames']\n",
    "\n",
    "# 스냅샷마다 반복해서 heetul_position에 정보를 추가함\n",
    "for frame in tl_dict['frames']:\n",
    "    \n",
    "    # 스냅샷마다 새로운 dictionary를 만들어서 기록    \n",
    "    heetul_frame = {}\n",
    "    \n",
    "    # 해당 스냅샷 timestamp를 저장\n",
    "    heetul_frame['timestamp'] = frame['timestamp']\n",
    "\n",
    "    \n",
    "    # 위에서 썼던 participantFrames에서 히털 찾기 코드\n",
    "    heetul = None;\n",
    "\n",
    "    for key in frame['participantFrames'].keys():\n",
    "        if frame['participantFrames'][key]['participantId'] == 6:\n",
    "            heetul = frame['participantFrames'][key]    \n",
    "    \n",
    "    \n",
    "    # 아까 heetul은 대충 요렇게 생겼기 때문에 (코드 아님)\n",
    "    \"\"\"\n",
    "    {'participantId': 6,\n",
    "     'position': {'x': 12564, 'y': 11610},\n",
    "     'currentGold': 0,\n",
    "     'totalGold': 500,\n",
    "     'level': 1,\n",
    "     'xp': 0,\n",
    "     'minionsKilled': 0,\n",
    "     'jungleMinionsKilled': 0,\n",
    "     'dominionScore': 0,\n",
    "     'teamScore': 0}    \n",
    "    \"\"\"\n",
    "    \n",
    "    print(heetul)\n",
    "    \n",
    "    \n",
    "    # 쓸만한거 가져오면 됨\n",
    "    heetul_frame['position'] = heetul['position']\n",
    "    heetul_frame['totalGold'] = heetul['totalGold']\n",
    "    heetul_frame['level'] = heetul['level']\n",
    "    heetul_frame['xp'] = heetul['xp']\n",
    "    \n",
    "    \n",
    "    # 마지막으로, 새로 만든 히털 프레임 dictionary를 히털 데이터 list에 추가    \n",
    "    heetul_data.append(heetul_frame)"
   ]
  },
  {
   "cell_type": "code",
   "execution_count": 180,
   "metadata": {
    "scrolled": true
   },
   "outputs": [],
   "source": [
    "#### 위에서 마지막 스냅샷에 'position'정보가 없어서 에러 생기므로 수정\n",
    "\n",
    "# 새로 만들 히털 데이터\n",
    "heetul_data = []\n",
    "\n",
    "\n",
    "# 재료: 타임라인 dictionary\n",
    "tl_dict['frames']\n",
    "\n",
    "# 스냅샷마다 반복해서 heetul_position에 정보를 추가함\n",
    "for frame in tl_dict['frames']:\n",
    "    \n",
    "    # 스냅샷마다 새로운 dictionary를 만들어서 기록    \n",
    "    heetul_frame = {}\n",
    "    \n",
    "    # 해당 스냅샷 timestamp를 저장\n",
    "    heetul_frame['timestamp'] = frame['timestamp']\n",
    "\n",
    "    \n",
    "    # 위에서 썼던 participantFrames에서 히털 찾기 코드\n",
    "    heetul = None;\n",
    "\n",
    "    for key in frame['participantFrames'].keys():\n",
    "        if frame['participantFrames'][key]['participantId'] == 6:\n",
    "            heetul = frame['participantFrames'][key]    \n",
    "    \n",
    "    \n",
    "    # 아까 heetul은 대충 요렇게 생겼기 때문에 (코드 아님)\n",
    "    \"\"\"\n",
    "    {'participantId': 6,\n",
    "     'position': {'x': 12564, 'y': 11610},\n",
    "     'currentGold': 0,\n",
    "     'totalGold': 500,\n",
    "     'level': 1,\n",
    "     'xp': 0,\n",
    "     'minionsKilled': 0,\n",
    "     'jungleMinionsKilled': 0,\n",
    "     'dominionScore': 0,\n",
    "     'teamScore': 0}    \n",
    "    \"\"\"\n",
    "    \n",
    "    \n",
    "    # 수정한 부분\n",
    "    if 'position' in heetul.keys():  \n",
    "        heetul_frame['position_x'] = heetul['position']['x']\n",
    "        heetul_frame['position_y'] = heetul['position']['y']        \n",
    "    else:\n",
    "        heetul_frame['position_x'] = None\n",
    "        heetul_frame['position_y'] = None\n",
    "    heetul_frame['totalGold'] = heetul['totalGold']\n",
    "    heetul_frame['level'] = heetul['level']\n",
    "    heetul_frame['xp'] = heetul['xp']\n",
    "    \n",
    "    \n",
    "    # 마지막으로, 새로 만든 히털 프레임 dictionary를 히털 데이터 list에 추가    \n",
    "    heetul_data.append(heetul_frame)"
   ]
  },
  {
   "cell_type": "code",
   "execution_count": 231,
   "metadata": {},
   "outputs": [
    {
     "name": "stdout",
     "output_type": "stream",
     "text": [
      "\n"
     ]
    }
   ],
   "source": [
    "heetul_data"
   ]
  },
  {
   "cell_type": "code",
   "execution_count": 182,
   "metadata": {
    "scrolled": true
   },
   "outputs": [],
   "source": [
    "# pandas 라이브러리를 통해 예쁘게 줄 세워보자\n",
    "df = pd.DataFrame.from_dict(heetul_data)"
   ]
  },
  {
   "cell_type": "code",
   "execution_count": 183,
   "metadata": {
    "scrolled": true
   },
   "outputs": [
    {
     "data": {
      "text/html": [
       "<div>\n",
       "<style scoped>\n",
       "    .dataframe tbody tr th:only-of-type {\n",
       "        vertical-align: middle;\n",
       "    }\n",
       "\n",
       "    .dataframe tbody tr th {\n",
       "        vertical-align: top;\n",
       "    }\n",
       "\n",
       "    .dataframe thead th {\n",
       "        text-align: right;\n",
       "    }\n",
       "</style>\n",
       "<table border=\"1\" class=\"dataframe\">\n",
       "  <thead>\n",
       "    <tr style=\"text-align: right;\">\n",
       "      <th></th>\n",
       "      <th>timestamp</th>\n",
       "      <th>position_x</th>\n",
       "      <th>position_y</th>\n",
       "      <th>totalGold</th>\n",
       "      <th>level</th>\n",
       "      <th>xp</th>\n",
       "    </tr>\n",
       "  </thead>\n",
       "  <tbody>\n",
       "    <tr>\n",
       "      <th>0</th>\n",
       "      <td>0</td>\n",
       "      <td>14237.0</td>\n",
       "      <td>14579.0</td>\n",
       "      <td>500</td>\n",
       "      <td>1</td>\n",
       "      <td>0</td>\n",
       "    </tr>\n",
       "    <tr>\n",
       "      <th>1</th>\n",
       "      <td>60023</td>\n",
       "      <td>12564.0</td>\n",
       "      <td>11610.0</td>\n",
       "      <td>500</td>\n",
       "      <td>1</td>\n",
       "      <td>0</td>\n",
       "    </tr>\n",
       "    <tr>\n",
       "      <th>2</th>\n",
       "      <td>120043</td>\n",
       "      <td>12947.0</td>\n",
       "      <td>2632.0</td>\n",
       "      <td>565</td>\n",
       "      <td>1</td>\n",
       "      <td>150</td>\n",
       "    </tr>\n",
       "    <tr>\n",
       "      <th>3</th>\n",
       "      <td>180062</td>\n",
       "      <td>13715.0</td>\n",
       "      <td>3936.0</td>\n",
       "      <td>713</td>\n",
       "      <td>2</td>\n",
       "      <td>412</td>\n",
       "    </tr>\n",
       "    <tr>\n",
       "      <th>4</th>\n",
       "      <td>240082</td>\n",
       "      <td>14087.0</td>\n",
       "      <td>13850.0</td>\n",
       "      <td>923</td>\n",
       "      <td>3</td>\n",
       "      <td>749</td>\n",
       "    </tr>\n",
       "    <tr>\n",
       "      <th>5</th>\n",
       "      <td>300095</td>\n",
       "      <td>12464.0</td>\n",
       "      <td>1988.0</td>\n",
       "      <td>1067</td>\n",
       "      <td>3</td>\n",
       "      <td>923</td>\n",
       "    </tr>\n",
       "    <tr>\n",
       "      <th>6</th>\n",
       "      <td>360112</td>\n",
       "      <td>14005.0</td>\n",
       "      <td>13748.0</td>\n",
       "      <td>1258</td>\n",
       "      <td>3</td>\n",
       "      <td>1091</td>\n",
       "    </tr>\n",
       "    <tr>\n",
       "      <th>7</th>\n",
       "      <td>420127</td>\n",
       "      <td>9753.0</td>\n",
       "      <td>5400.0</td>\n",
       "      <td>1422</td>\n",
       "      <td>4</td>\n",
       "      <td>1166</td>\n",
       "    </tr>\n",
       "    <tr>\n",
       "      <th>8</th>\n",
       "      <td>480149</td>\n",
       "      <td>13215.0</td>\n",
       "      <td>4115.0</td>\n",
       "      <td>1721</td>\n",
       "      <td>4</td>\n",
       "      <td>1718</td>\n",
       "    </tr>\n",
       "    <tr>\n",
       "      <th>9</th>\n",
       "      <td>540170</td>\n",
       "      <td>11621.0</td>\n",
       "      <td>1696.0</td>\n",
       "      <td>1949</td>\n",
       "      <td>5</td>\n",
       "      <td>2113</td>\n",
       "    </tr>\n",
       "    <tr>\n",
       "      <th>10</th>\n",
       "      <td>600185</td>\n",
       "      <td>13748.0</td>\n",
       "      <td>4316.0</td>\n",
       "      <td>2125</td>\n",
       "      <td>6</td>\n",
       "      <td>2463</td>\n",
       "    </tr>\n",
       "    <tr>\n",
       "      <th>11</th>\n",
       "      <td>660198</td>\n",
       "      <td>14004.0</td>\n",
       "      <td>4550.0</td>\n",
       "      <td>2352</td>\n",
       "      <td>6</td>\n",
       "      <td>2748</td>\n",
       "    </tr>\n",
       "    <tr>\n",
       "      <th>12</th>\n",
       "      <td>720217</td>\n",
       "      <td>8219.0</td>\n",
       "      <td>6767.0</td>\n",
       "      <td>3086</td>\n",
       "      <td>7</td>\n",
       "      <td>3584</td>\n",
       "    </tr>\n",
       "    <tr>\n",
       "      <th>13</th>\n",
       "      <td>780234</td>\n",
       "      <td>11115.0</td>\n",
       "      <td>3690.0</td>\n",
       "      <td>3284</td>\n",
       "      <td>7</td>\n",
       "      <td>3922</td>\n",
       "    </tr>\n",
       "    <tr>\n",
       "      <th>14</th>\n",
       "      <td>840253</td>\n",
       "      <td>12090.0</td>\n",
       "      <td>1281.0</td>\n",
       "      <td>3544</td>\n",
       "      <td>8</td>\n",
       "      <td>4243</td>\n",
       "    </tr>\n",
       "    <tr>\n",
       "      <th>15</th>\n",
       "      <td>900268</td>\n",
       "      <td>9958.0</td>\n",
       "      <td>9781.0</td>\n",
       "      <td>3876</td>\n",
       "      <td>8</td>\n",
       "      <td>4435</td>\n",
       "    </tr>\n",
       "    <tr>\n",
       "      <th>16</th>\n",
       "      <td>960285</td>\n",
       "      <td>8463.0</td>\n",
       "      <td>6525.0</td>\n",
       "      <td>4125</td>\n",
       "      <td>8</td>\n",
       "      <td>4639</td>\n",
       "    </tr>\n",
       "    <tr>\n",
       "      <th>17</th>\n",
       "      <td>1020304</td>\n",
       "      <td>7161.0</td>\n",
       "      <td>7128.0</td>\n",
       "      <td>4406</td>\n",
       "      <td>9</td>\n",
       "      <td>5094</td>\n",
       "    </tr>\n",
       "    <tr>\n",
       "      <th>18</th>\n",
       "      <td>1080322</td>\n",
       "      <td>6976.0</td>\n",
       "      <td>8957.0</td>\n",
       "      <td>4546</td>\n",
       "      <td>9</td>\n",
       "      <td>5163</td>\n",
       "    </tr>\n",
       "    <tr>\n",
       "      <th>19</th>\n",
       "      <td>1140344</td>\n",
       "      <td>7545.0</td>\n",
       "      <td>7651.0</td>\n",
       "      <td>4851</td>\n",
       "      <td>9</td>\n",
       "      <td>5623</td>\n",
       "    </tr>\n",
       "    <tr>\n",
       "      <th>20</th>\n",
       "      <td>1200360</td>\n",
       "      <td>7827.0</td>\n",
       "      <td>7124.0</td>\n",
       "      <td>5043</td>\n",
       "      <td>9</td>\n",
       "      <td>5777</td>\n",
       "    </tr>\n",
       "    <tr>\n",
       "      <th>21</th>\n",
       "      <td>1260377</td>\n",
       "      <td>8279.0</td>\n",
       "      <td>8218.0</td>\n",
       "      <td>5308</td>\n",
       "      <td>9</td>\n",
       "      <td>6116</td>\n",
       "    </tr>\n",
       "    <tr>\n",
       "      <th>22</th>\n",
       "      <td>1320395</td>\n",
       "      <td>8672.0</td>\n",
       "      <td>5403.0</td>\n",
       "      <td>5448</td>\n",
       "      <td>10</td>\n",
       "      <td>6247</td>\n",
       "    </tr>\n",
       "    <tr>\n",
       "      <th>23</th>\n",
       "      <td>1380420</td>\n",
       "      <td>6980.0</td>\n",
       "      <td>7223.0</td>\n",
       "      <td>5901</td>\n",
       "      <td>11</td>\n",
       "      <td>7500</td>\n",
       "    </tr>\n",
       "    <tr>\n",
       "      <th>24</th>\n",
       "      <td>1440434</td>\n",
       "      <td>8474.0</td>\n",
       "      <td>10485.0</td>\n",
       "      <td>6267</td>\n",
       "      <td>11</td>\n",
       "      <td>7611</td>\n",
       "    </tr>\n",
       "    <tr>\n",
       "      <th>25</th>\n",
       "      <td>1500451</td>\n",
       "      <td>5778.0</td>\n",
       "      <td>8607.0</td>\n",
       "      <td>6482</td>\n",
       "      <td>11</td>\n",
       "      <td>7946</td>\n",
       "    </tr>\n",
       "    <tr>\n",
       "      <th>26</th>\n",
       "      <td>1560473</td>\n",
       "      <td>6816.0</td>\n",
       "      <td>6963.0</td>\n",
       "      <td>6623</td>\n",
       "      <td>11</td>\n",
       "      <td>8204</td>\n",
       "    </tr>\n",
       "    <tr>\n",
       "      <th>27</th>\n",
       "      <td>1620500</td>\n",
       "      <td>8737.0</td>\n",
       "      <td>1667.0</td>\n",
       "      <td>6793</td>\n",
       "      <td>11</td>\n",
       "      <td>8347</td>\n",
       "    </tr>\n",
       "    <tr>\n",
       "      <th>28</th>\n",
       "      <td>1680517</td>\n",
       "      <td>13105.0</td>\n",
       "      <td>12405.0</td>\n",
       "      <td>7121</td>\n",
       "      <td>12</td>\n",
       "      <td>9086</td>\n",
       "    </tr>\n",
       "    <tr>\n",
       "      <th>29</th>\n",
       "      <td>1740543</td>\n",
       "      <td>8643.0</td>\n",
       "      <td>4954.0</td>\n",
       "      <td>7350</td>\n",
       "      <td>12</td>\n",
       "      <td>9475</td>\n",
       "    </tr>\n",
       "    <tr>\n",
       "      <th>30</th>\n",
       "      <td>1800557</td>\n",
       "      <td>8567.0</td>\n",
       "      <td>4780.0</td>\n",
       "      <td>7490</td>\n",
       "      <td>12</td>\n",
       "      <td>9513</td>\n",
       "    </tr>\n",
       "    <tr>\n",
       "      <th>31</th>\n",
       "      <td>1860576</td>\n",
       "      <td>7461.0</td>\n",
       "      <td>8512.0</td>\n",
       "      <td>7631</td>\n",
       "      <td>12</td>\n",
       "      <td>9584</td>\n",
       "    </tr>\n",
       "    <tr>\n",
       "      <th>32</th>\n",
       "      <td>1920597</td>\n",
       "      <td>4764.0</td>\n",
       "      <td>9989.0</td>\n",
       "      <td>7888</td>\n",
       "      <td>13</td>\n",
       "      <td>10173</td>\n",
       "    </tr>\n",
       "    <tr>\n",
       "      <th>33</th>\n",
       "      <td>1980621</td>\n",
       "      <td>1936.0</td>\n",
       "      <td>1737.0</td>\n",
       "      <td>8692</td>\n",
       "      <td>14</td>\n",
       "      <td>11685</td>\n",
       "    </tr>\n",
       "    <tr>\n",
       "      <th>34</th>\n",
       "      <td>2040621</td>\n",
       "      <td>NaN</td>\n",
       "      <td>NaN</td>\n",
       "      <td>8940</td>\n",
       "      <td>14</td>\n",
       "      <td>12645</td>\n",
       "    </tr>\n",
       "  </tbody>\n",
       "</table>\n",
       "</div>"
      ],
      "text/plain": [
       "    timestamp  position_x  position_y  totalGold  level     xp\n",
       "0           0     14237.0     14579.0        500      1      0\n",
       "1       60023     12564.0     11610.0        500      1      0\n",
       "2      120043     12947.0      2632.0        565      1    150\n",
       "3      180062     13715.0      3936.0        713      2    412\n",
       "4      240082     14087.0     13850.0        923      3    749\n",
       "5      300095     12464.0      1988.0       1067      3    923\n",
       "6      360112     14005.0     13748.0       1258      3   1091\n",
       "7      420127      9753.0      5400.0       1422      4   1166\n",
       "8      480149     13215.0      4115.0       1721      4   1718\n",
       "9      540170     11621.0      1696.0       1949      5   2113\n",
       "10     600185     13748.0      4316.0       2125      6   2463\n",
       "11     660198     14004.0      4550.0       2352      6   2748\n",
       "12     720217      8219.0      6767.0       3086      7   3584\n",
       "13     780234     11115.0      3690.0       3284      7   3922\n",
       "14     840253     12090.0      1281.0       3544      8   4243\n",
       "15     900268      9958.0      9781.0       3876      8   4435\n",
       "16     960285      8463.0      6525.0       4125      8   4639\n",
       "17    1020304      7161.0      7128.0       4406      9   5094\n",
       "18    1080322      6976.0      8957.0       4546      9   5163\n",
       "19    1140344      7545.0      7651.0       4851      9   5623\n",
       "20    1200360      7827.0      7124.0       5043      9   5777\n",
       "21    1260377      8279.0      8218.0       5308      9   6116\n",
       "22    1320395      8672.0      5403.0       5448     10   6247\n",
       "23    1380420      6980.0      7223.0       5901     11   7500\n",
       "24    1440434      8474.0     10485.0       6267     11   7611\n",
       "25    1500451      5778.0      8607.0       6482     11   7946\n",
       "26    1560473      6816.0      6963.0       6623     11   8204\n",
       "27    1620500      8737.0      1667.0       6793     11   8347\n",
       "28    1680517     13105.0     12405.0       7121     12   9086\n",
       "29    1740543      8643.0      4954.0       7350     12   9475\n",
       "30    1800557      8567.0      4780.0       7490     12   9513\n",
       "31    1860576      7461.0      8512.0       7631     12   9584\n",
       "32    1920597      4764.0      9989.0       7888     13  10173\n",
       "33    1980621      1936.0      1737.0       8692     14  11685\n",
       "34    2040621         NaN         NaN       8940     14  12645"
      ]
     },
     "execution_count": 183,
     "metadata": {},
     "output_type": "execute_result"
    }
   ],
   "source": [
    "df"
   ]
  },
  {
   "cell_type": "code",
   "execution_count": 184,
   "metadata": {},
   "outputs": [
    {
     "data": {
      "text/plain": [
       "pandas.core.frame.DataFrame"
      ]
     },
     "execution_count": 184,
     "metadata": {},
     "output_type": "execute_result"
    }
   ],
   "source": [
    "# dataframe 이라는 class는 이 나름대로 할 수 있는 기능이 굉장히 많음\n",
    "type(df)"
   ]
  },
  {
   "cell_type": "code",
   "execution_count": 189,
   "metadata": {
    "scrolled": true
   },
   "outputs": [
    {
     "data": {
      "text/html": [
       "<div>\n",
       "<style scoped>\n",
       "    .dataframe tbody tr th:only-of-type {\n",
       "        vertical-align: middle;\n",
       "    }\n",
       "\n",
       "    .dataframe tbody tr th {\n",
       "        vertical-align: top;\n",
       "    }\n",
       "\n",
       "    .dataframe thead th {\n",
       "        text-align: right;\n",
       "    }\n",
       "</style>\n",
       "<table border=\"1\" class=\"dataframe\">\n",
       "  <thead>\n",
       "    <tr style=\"text-align: right;\">\n",
       "      <th></th>\n",
       "      <th>position_x</th>\n",
       "      <th>position_y</th>\n",
       "    </tr>\n",
       "  </thead>\n",
       "  <tbody>\n",
       "    <tr>\n",
       "      <th>0</th>\n",
       "      <td>14237.0</td>\n",
       "      <td>14579.0</td>\n",
       "    </tr>\n",
       "    <tr>\n",
       "      <th>1</th>\n",
       "      <td>12564.0</td>\n",
       "      <td>11610.0</td>\n",
       "    </tr>\n",
       "    <tr>\n",
       "      <th>2</th>\n",
       "      <td>12947.0</td>\n",
       "      <td>2632.0</td>\n",
       "    </tr>\n",
       "    <tr>\n",
       "      <th>3</th>\n",
       "      <td>13715.0</td>\n",
       "      <td>3936.0</td>\n",
       "    </tr>\n",
       "    <tr>\n",
       "      <th>4</th>\n",
       "      <td>14087.0</td>\n",
       "      <td>13850.0</td>\n",
       "    </tr>\n",
       "    <tr>\n",
       "      <th>5</th>\n",
       "      <td>12464.0</td>\n",
       "      <td>1988.0</td>\n",
       "    </tr>\n",
       "    <tr>\n",
       "      <th>6</th>\n",
       "      <td>14005.0</td>\n",
       "      <td>13748.0</td>\n",
       "    </tr>\n",
       "    <tr>\n",
       "      <th>7</th>\n",
       "      <td>9753.0</td>\n",
       "      <td>5400.0</td>\n",
       "    </tr>\n",
       "    <tr>\n",
       "      <th>8</th>\n",
       "      <td>13215.0</td>\n",
       "      <td>4115.0</td>\n",
       "    </tr>\n",
       "    <tr>\n",
       "      <th>9</th>\n",
       "      <td>11621.0</td>\n",
       "      <td>1696.0</td>\n",
       "    </tr>\n",
       "    <tr>\n",
       "      <th>10</th>\n",
       "      <td>13748.0</td>\n",
       "      <td>4316.0</td>\n",
       "    </tr>\n",
       "    <tr>\n",
       "      <th>11</th>\n",
       "      <td>14004.0</td>\n",
       "      <td>4550.0</td>\n",
       "    </tr>\n",
       "    <tr>\n",
       "      <th>12</th>\n",
       "      <td>8219.0</td>\n",
       "      <td>6767.0</td>\n",
       "    </tr>\n",
       "    <tr>\n",
       "      <th>13</th>\n",
       "      <td>11115.0</td>\n",
       "      <td>3690.0</td>\n",
       "    </tr>\n",
       "    <tr>\n",
       "      <th>14</th>\n",
       "      <td>12090.0</td>\n",
       "      <td>1281.0</td>\n",
       "    </tr>\n",
       "    <tr>\n",
       "      <th>15</th>\n",
       "      <td>9958.0</td>\n",
       "      <td>9781.0</td>\n",
       "    </tr>\n",
       "    <tr>\n",
       "      <th>16</th>\n",
       "      <td>8463.0</td>\n",
       "      <td>6525.0</td>\n",
       "    </tr>\n",
       "    <tr>\n",
       "      <th>17</th>\n",
       "      <td>7161.0</td>\n",
       "      <td>7128.0</td>\n",
       "    </tr>\n",
       "    <tr>\n",
       "      <th>18</th>\n",
       "      <td>6976.0</td>\n",
       "      <td>8957.0</td>\n",
       "    </tr>\n",
       "    <tr>\n",
       "      <th>19</th>\n",
       "      <td>7545.0</td>\n",
       "      <td>7651.0</td>\n",
       "    </tr>\n",
       "    <tr>\n",
       "      <th>20</th>\n",
       "      <td>7827.0</td>\n",
       "      <td>7124.0</td>\n",
       "    </tr>\n",
       "    <tr>\n",
       "      <th>21</th>\n",
       "      <td>8279.0</td>\n",
       "      <td>8218.0</td>\n",
       "    </tr>\n",
       "    <tr>\n",
       "      <th>22</th>\n",
       "      <td>8672.0</td>\n",
       "      <td>5403.0</td>\n",
       "    </tr>\n",
       "    <tr>\n",
       "      <th>23</th>\n",
       "      <td>6980.0</td>\n",
       "      <td>7223.0</td>\n",
       "    </tr>\n",
       "    <tr>\n",
       "      <th>24</th>\n",
       "      <td>8474.0</td>\n",
       "      <td>10485.0</td>\n",
       "    </tr>\n",
       "    <tr>\n",
       "      <th>25</th>\n",
       "      <td>5778.0</td>\n",
       "      <td>8607.0</td>\n",
       "    </tr>\n",
       "    <tr>\n",
       "      <th>26</th>\n",
       "      <td>6816.0</td>\n",
       "      <td>6963.0</td>\n",
       "    </tr>\n",
       "    <tr>\n",
       "      <th>27</th>\n",
       "      <td>8737.0</td>\n",
       "      <td>1667.0</td>\n",
       "    </tr>\n",
       "    <tr>\n",
       "      <th>28</th>\n",
       "      <td>13105.0</td>\n",
       "      <td>12405.0</td>\n",
       "    </tr>\n",
       "    <tr>\n",
       "      <th>29</th>\n",
       "      <td>8643.0</td>\n",
       "      <td>4954.0</td>\n",
       "    </tr>\n",
       "    <tr>\n",
       "      <th>30</th>\n",
       "      <td>8567.0</td>\n",
       "      <td>4780.0</td>\n",
       "    </tr>\n",
       "    <tr>\n",
       "      <th>31</th>\n",
       "      <td>7461.0</td>\n",
       "      <td>8512.0</td>\n",
       "    </tr>\n",
       "    <tr>\n",
       "      <th>32</th>\n",
       "      <td>4764.0</td>\n",
       "      <td>9989.0</td>\n",
       "    </tr>\n",
       "    <tr>\n",
       "      <th>33</th>\n",
       "      <td>1936.0</td>\n",
       "      <td>1737.0</td>\n",
       "    </tr>\n",
       "    <tr>\n",
       "      <th>34</th>\n",
       "      <td>NaN</td>\n",
       "      <td>NaN</td>\n",
       "    </tr>\n",
       "  </tbody>\n",
       "</table>\n",
       "</div>"
      ],
      "text/plain": [
       "    position_x  position_y\n",
       "0      14237.0     14579.0\n",
       "1      12564.0     11610.0\n",
       "2      12947.0      2632.0\n",
       "3      13715.0      3936.0\n",
       "4      14087.0     13850.0\n",
       "5      12464.0      1988.0\n",
       "6      14005.0     13748.0\n",
       "7       9753.0      5400.0\n",
       "8      13215.0      4115.0\n",
       "9      11621.0      1696.0\n",
       "10     13748.0      4316.0\n",
       "11     14004.0      4550.0\n",
       "12      8219.0      6767.0\n",
       "13     11115.0      3690.0\n",
       "14     12090.0      1281.0\n",
       "15      9958.0      9781.0\n",
       "16      8463.0      6525.0\n",
       "17      7161.0      7128.0\n",
       "18      6976.0      8957.0\n",
       "19      7545.0      7651.0\n",
       "20      7827.0      7124.0\n",
       "21      8279.0      8218.0\n",
       "22      8672.0      5403.0\n",
       "23      6980.0      7223.0\n",
       "24      8474.0     10485.0\n",
       "25      5778.0      8607.0\n",
       "26      6816.0      6963.0\n",
       "27      8737.0      1667.0\n",
       "28     13105.0     12405.0\n",
       "29      8643.0      4954.0\n",
       "30      8567.0      4780.0\n",
       "31      7461.0      8512.0\n",
       "32      4764.0      9989.0\n",
       "33      1936.0      1737.0\n",
       "34         NaN         NaN"
      ]
     },
     "execution_count": 189,
     "metadata": {},
     "output_type": "execute_result"
    }
   ],
   "source": [
    "# 부분 선택 등\n",
    "df[['position_x', 'position_y']]"
   ]
  },
  {
   "cell_type": "code",
   "execution_count": 196,
   "metadata": {
    "scrolled": true
   },
   "outputs": [
    {
     "data": {
      "image/png": "[encoded data removed]",
      "text/plain": [
       "<Figure size 432x288 with 1 Axes>"
      ]
     },
     "metadata": {
      "needs_background": "light"
     },
     "output_type": "display_data"
    }
   ],
   "source": [
    "# matplotlib의 pyplot 라이브러리를 활용하면 간단한 visualization을 할 수 있음\n",
    "\n",
    "x = df['position_x']\n",
    "y = df['position_y']\n",
    "label= df\n",
    "\n",
    "plt.scatter(x, y, label=\"h2etul\", color=\"purple\",\n",
    "            marker=\"1\", s=50)\n",
    "\n",
    "\n",
    "\n",
    "plt.title('position')\n",
    "plt.legend()\n",
    "\n",
    "plt.show()"
   ]
  },
  {
   "cell_type": "code",
   "execution_count": 214,
   "metadata": {
    "scrolled": false
   },
   "outputs": [
    {
     "name": "stderr",
     "output_type": "stream",
     "text": [
      "posx and posy should be finite values\n",
      "posx and posy should be finite values\n"
     ]
    },
    {
     "data": {
      "image/png": "[encoded data removed]",
      "text/plain": [
       "<Figure size 432x432 with 1 Axes>"
      ]
     },
     "metadata": {
      "needs_background": "light"
     },
     "output_type": "display_data"
    }
   ],
   "source": [
    "# 약간의 응용\n",
    "\n",
    "im = plt.imread(image_name)\n",
    "\n",
    "x = df['position_x']\n",
    "y = df['position_y']\n",
    "\n",
    "plt.figure(figsize=(6, 6))\n",
    "\n",
    "plt.plot(x, y, \"-o\")\n",
    "\n",
    "plt.xlim(0, 16000)\n",
    "plt.ylim(0, 16000)\n",
    "plt.gca().set_aspect('equal', adjustable='box')\n",
    "\n",
    "for xpos, ypos, minute in zip(x, y, df.index):\n",
    "    plt.text(xpos, ypos, minute, fontsize=13)\n",
    "\n",
    "plt.show()\n"
   ]
  },
  {
   "cell_type": "code",
   "execution_count": null,
   "metadata": {},
   "outputs": [],
   "source": []
  },
  {
   "cell_type": "code",
   "execution_count": null,
   "metadata": {},
   "outputs": [],
   "source": []
  },
  {
   "cell_type": "code",
   "execution_count": null,
   "metadata": {},
   "outputs": [],
   "source": []
  },
  {
   "cell_type": "code",
   "execution_count": null,
   "metadata": {},
   "outputs": [],
   "source": []
  },
  {
   "cell_type": "code",
   "execution_count": null,
   "metadata": {},
   "outputs": [],
   "source": []
  },
  {
   "cell_type": "code",
   "execution_count": null,
   "metadata": {},
   "outputs": [],
   "source": []
  },
  {
   "cell_type": "code",
   "execution_count": null,
   "metadata": {},
   "outputs": [],
   "source": []
  },
  {
   "cell_type": "code",
   "execution_count": null,
   "metadata": {},
   "outputs": [],
   "source": []
  },
  {
   "cell_type": "code",
   "execution_count": null,
   "metadata": {},
   "outputs": [],
   "source": []
  }
 ],
 "metadata": {
  "kernelspec": {
   "display_name": "lol",
   "language": "python",
   "name": "lol"
  },
  "language_info": {
   "codemirror_mode": {
    "name": "ipython",
    "version": 3
   },
   "file_extension": ".py",
   "mimetype": "text/x-python",
   "name": "python",
   "nbconvert_exporter": "python",
   "pygments_lexer": "ipython3",
   "version": "3.6.10"
  }
 },
 "nbformat": 4,
 "nbformat_minor": 4
}
